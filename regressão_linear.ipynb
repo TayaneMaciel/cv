{
  "nbformat": 4,
  "nbformat_minor": 0,
  "metadata": {
    "colab": {
      "provenance": [],
      "mount_file_id": "1AQo4GFCK03-oaVAcBbHuKlEQ0bMwAYUg",
      "authorship_tag": "ABX9TyNstbC7ApebQowUrhf7Q3Hv",
      "include_colab_link": true
    },
    "kernelspec": {
      "name": "python3",
      "display_name": "Python 3"
    },
    "language_info": {
      "name": "python"
    }
  },
  "cells": [
    {
      "cell_type": "markdown",
      "metadata": {
        "id": "view-in-github",
        "colab_type": "text"
      },
      "source": [
        "<a href=\"https://colab.research.google.com/github/TayaneMaciel/cv2/blob/main/regress%C3%A3o_linear.ipynb\" target=\"_parent\"><img src=\"https://colab.research.google.com/assets/colab-badge.svg\" alt=\"Open In Colab\"/></a>"
      ]
    },
    {
      "cell_type": "code",
      "execution_count": null,
      "metadata": {
        "id": "ZFP4LWXtjtDi"
      },
      "outputs": [],
      "source": [
        "#IMPORTAÇÕES\n",
        "import pandas as pd"
      ]
    },
    {
      "cell_type": "code",
      "source": [
        "dados = pd.read_excel('/content/drive/MyDrive/programaria - dados/analise_dados_mod7_(1).xlsx')"
      ],
      "metadata": {
        "id": "zh2fU3fPkcjz"
      },
      "execution_count": null,
      "outputs": []
    },
    {
      "cell_type": "markdown",
      "source": [
        "Vamos filtrar apenas pessoas que são empregadas do tipo CLT. Para confirmar os nomes das colunas começamos com o columns:"
      ],
      "metadata": {
        "id": "Qma9FIOkk4C5"
      }
    },
    {
      "cell_type": "code",
      "source": [
        "dados.columns"
      ],
      "metadata": {
        "colab": {
          "base_uri": "https://localhost:8080/"
        },
        "id": "D9KqXi-YlIhp",
        "outputId": "1be5b225-0fe5-43d4-abae-2c3f258e4aa8"
      },
      "execution_count": null,
      "outputs": [
        {
          "output_type": "execute_result",
          "data": {
            "text/plain": [
              "Index(['ID', 'IDADE', 'FAIXA IDADE', 'GENERO', 'COR/RACA/ETNIA', 'PCD',\n",
              "       'EXPERIENCIA_PROFISSIONAL_PREJUDICADA', 'ASPECTOS_PREJUDICADOS',\n",
              "       'VIVE_NO_BRASIL', 'ESTADO ONDE MORA', 'UF ONDE MORA',\n",
              "       'REGIAO ONDE MORA', 'MUDOU DE ESTADO?', 'REGIAO DE ORIGEM',\n",
              "       'NIVEL DE ENSINO', 'ÁREA DE FORMAÇÃO',\n",
              "       'QUAL SUA SITUAÇÃO ATUAL DE TRABALHO?', 'SETOR',\n",
              "       'NUMERO DE FUNCIONARIOS', 'GESTOR?', 'CARGO COMO GESTOR', 'CARGO ATUAL',\n",
              "       'FAIXA SALARIAL',\n",
              "       'QUANTO TEMPO DE EXPERIÊNCIA NA ÁREA DE DADOS VOCÊ TEM?',\n",
              "       'QUANTO TEMPO DE EXPERIÊNCIA NA ÁREA DE TI/ENGENHARIA DE SOFTWARE VOCÊ TEVE ANTES DE COMEÇAR A TRABALHAR NA ÁREA DE DADOS?',\n",
              "       'SALARIO', 'NOVO_NIVEL', 'NIVEL_Júnior', 'NIVEL_Pleno', 'NIVEL_Sênior',\n",
              "       'GEARACAO', 'Quanto tempo de experiência na área de dados você tem?',\n",
              "       'Quanto tempo de experiência na área de TI/Engenharia de Software você teve antes de começar a trabalhar na área de dados?',\n",
              "       'Você está satisfeito na sua empresa atual?',\n",
              "       'Qual o principal motivo da sua insatisfação com a empresa atual?',\n",
              "       'Você participou de entrevistas de emprego nos últimos 6 meses?',\n",
              "       'Você pretende mudar de emprego nos próximos 6 meses?',\n",
              "       'Quais os principais critérios que você leva em consideração no momento de decidir onde trabalhar?',\n",
              "       'Atualmente qual a sua forma de trabalho?',\n",
              "       'Qual a forma de trabalho ideal para você?',\n",
              "       'Caso sua empresa decida pelo modelo 100% presencial qual será sua atitude?',\n",
              "       'Sua empresa passu por Layoff em 2022?', 'Atuacao',\n",
              "       'Quais das linguagens listadas abaixo você utiliza no trabalho?',\n",
              "       'EM_BUSCA', 'ABERTO_OPORTUNIDADES'],\n",
              "      dtype='object')"
            ]
          },
          "metadata": {},
          "execution_count": 3
        }
      ]
    },
    {
      "cell_type": "markdown",
      "source": [
        "A coluna a ser usada sera a 'QUAL SUA SITUAÇÃO ATUAL DE TRABALHO?'"
      ],
      "metadata": {
        "id": "Tk8w2UKRl2tr"
      }
    },
    {
      "cell_type": "code",
      "source": [
        "dados['QUAL SUA SITUAÇÃO ATUAL DE TRABALHO?'].value_counts()  #para ver os tipos de valores"
      ],
      "metadata": {
        "colab": {
          "base_uri": "https://localhost:8080/",
          "height": 523
        },
        "id": "DZjo47b8l6v-",
        "outputId": "20d8a260-8e1b-4a79-e2d3-78d6781470ff"
      },
      "execution_count": null,
      "outputs": [
        {
          "output_type": "execute_result",
          "data": {
            "text/plain": [
              "QUAL SUA SITUAÇÃO ATUAL DE TRABALHO?\n",
              "Empregado (CLT)                                                    2762\n",
              "Empreendedor ou Empregado (CNPJ)                                    410\n",
              "Desempregado, buscando recolocação                                  350\n",
              "Estagiário                                                          188\n",
              "Servidor Público                                                    156\n",
              "Trabalho na área Acadêmica/Pesquisador                               86\n",
              "Somente Estudante (graduação)                                        82\n",
              "Vivo no Brasil e trabalho remoto para empresa de fora do Brasil      69\n",
              "Vivo fora do Brasil e trabalho para empresa de fora do Brasil        46\n",
              "Somente Estudante (pós-graduação)                                    44\n",
              "Freelancer                                                           39\n",
              "Prefiro não informar                                                 24\n",
              "Desempregado e não estou buscando recolocação                        15\n",
              "Name: count, dtype: int64"
            ],
            "text/html": [
              "<div>\n",
              "<style scoped>\n",
              "    .dataframe tbody tr th:only-of-type {\n",
              "        vertical-align: middle;\n",
              "    }\n",
              "\n",
              "    .dataframe tbody tr th {\n",
              "        vertical-align: top;\n",
              "    }\n",
              "\n",
              "    .dataframe thead th {\n",
              "        text-align: right;\n",
              "    }\n",
              "</style>\n",
              "<table border=\"1\" class=\"dataframe\">\n",
              "  <thead>\n",
              "    <tr style=\"text-align: right;\">\n",
              "      <th></th>\n",
              "      <th>count</th>\n",
              "    </tr>\n",
              "    <tr>\n",
              "      <th>QUAL SUA SITUAÇÃO ATUAL DE TRABALHO?</th>\n",
              "      <th></th>\n",
              "    </tr>\n",
              "  </thead>\n",
              "  <tbody>\n",
              "    <tr>\n",
              "      <th>Empregado (CLT)</th>\n",
              "      <td>2762</td>\n",
              "    </tr>\n",
              "    <tr>\n",
              "      <th>Empreendedor ou Empregado (CNPJ)</th>\n",
              "      <td>410</td>\n",
              "    </tr>\n",
              "    <tr>\n",
              "      <th>Desempregado, buscando recolocação</th>\n",
              "      <td>350</td>\n",
              "    </tr>\n",
              "    <tr>\n",
              "      <th>Estagiário</th>\n",
              "      <td>188</td>\n",
              "    </tr>\n",
              "    <tr>\n",
              "      <th>Servidor Público</th>\n",
              "      <td>156</td>\n",
              "    </tr>\n",
              "    <tr>\n",
              "      <th>Trabalho na área Acadêmica/Pesquisador</th>\n",
              "      <td>86</td>\n",
              "    </tr>\n",
              "    <tr>\n",
              "      <th>Somente Estudante (graduação)</th>\n",
              "      <td>82</td>\n",
              "    </tr>\n",
              "    <tr>\n",
              "      <th>Vivo no Brasil e trabalho remoto para empresa de fora do Brasil</th>\n",
              "      <td>69</td>\n",
              "    </tr>\n",
              "    <tr>\n",
              "      <th>Vivo fora do Brasil e trabalho para empresa de fora do Brasil</th>\n",
              "      <td>46</td>\n",
              "    </tr>\n",
              "    <tr>\n",
              "      <th>Somente Estudante (pós-graduação)</th>\n",
              "      <td>44</td>\n",
              "    </tr>\n",
              "    <tr>\n",
              "      <th>Freelancer</th>\n",
              "      <td>39</td>\n",
              "    </tr>\n",
              "    <tr>\n",
              "      <th>Prefiro não informar</th>\n",
              "      <td>24</td>\n",
              "    </tr>\n",
              "    <tr>\n",
              "      <th>Desempregado e não estou buscando recolocação</th>\n",
              "      <td>15</td>\n",
              "    </tr>\n",
              "  </tbody>\n",
              "</table>\n",
              "</div><br><label><b>dtype:</b> int64</label>"
            ]
          },
          "metadata": {},
          "execution_count": 4
        }
      ]
    },
    {
      "cell_type": "code",
      "source": [
        "#vamos filtrar\n",
        "dados = dados[dados['QUAL SUA SITUAÇÃO ATUAL DE TRABALHO?']== 'Empregado (CLT)']"
      ],
      "metadata": {
        "id": "nnYuzwebmFNX"
      },
      "execution_count": null,
      "outputs": []
    },
    {
      "cell_type": "code",
      "source": [
        "#value counts em dados para conferir o filtro\n",
        "dados['QUAL SUA SITUAÇÃO ATUAL DE TRABALHO?'].value_counts()"
      ],
      "metadata": {
        "colab": {
          "base_uri": "https://localhost:8080/",
          "height": 147
        },
        "id": "Ydd5geD2mgFH",
        "outputId": "1b385f55-a8cc-454a-c199-9fd228bd2c1c"
      },
      "execution_count": null,
      "outputs": [
        {
          "output_type": "execute_result",
          "data": {
            "text/plain": [
              "QUAL SUA SITUAÇÃO ATUAL DE TRABALHO?\n",
              "Empregado (CLT)    2762\n",
              "Name: count, dtype: int64"
            ],
            "text/html": [
              "<div>\n",
              "<style scoped>\n",
              "    .dataframe tbody tr th:only-of-type {\n",
              "        vertical-align: middle;\n",
              "    }\n",
              "\n",
              "    .dataframe tbody tr th {\n",
              "        vertical-align: top;\n",
              "    }\n",
              "\n",
              "    .dataframe thead th {\n",
              "        text-align: right;\n",
              "    }\n",
              "</style>\n",
              "<table border=\"1\" class=\"dataframe\">\n",
              "  <thead>\n",
              "    <tr style=\"text-align: right;\">\n",
              "      <th></th>\n",
              "      <th>count</th>\n",
              "    </tr>\n",
              "    <tr>\n",
              "      <th>QUAL SUA SITUAÇÃO ATUAL DE TRABALHO?</th>\n",
              "      <th></th>\n",
              "    </tr>\n",
              "  </thead>\n",
              "  <tbody>\n",
              "    <tr>\n",
              "      <th>Empregado (CLT)</th>\n",
              "      <td>2762</td>\n",
              "    </tr>\n",
              "  </tbody>\n",
              "</table>\n",
              "</div><br><label><b>dtype:</b> int64</label>"
            ]
          },
          "metadata": {},
          "execution_count": 6
        }
      ]
    },
    {
      "cell_type": "markdown",
      "source": [
        "Agora vamos dar uma olhada na coluna de COR/RACA/ETNIA. E vamos 'limpar' categorias com poucos dados, para não alterar as medias. Ex: indigenas, prefiro nao informar, etc"
      ],
      "metadata": {
        "id": "EQAB3HIroEFn"
      }
    },
    {
      "cell_type": "code",
      "source": [
        "dados['COR/RACA/ETNIA'].value_counts()"
      ],
      "metadata": {
        "colab": {
          "base_uri": "https://localhost:8080/",
          "height": 335
        },
        "id": "RtLxTZ_JoWmD",
        "outputId": "72200fc9-ed4c-4904-903e-b77c9cdb8d13"
      },
      "execution_count": null,
      "outputs": [
        {
          "output_type": "execute_result",
          "data": {
            "text/plain": [
              "COR/RACA/ETNIA\n",
              "Branca                  1805\n",
              "Parda                    661\n",
              "Preta                    181\n",
              "Amarela                   85\n",
              "Prefiro não informar      16\n",
              "Outra                     10\n",
              "Indígena                   4\n",
              "Name: count, dtype: int64"
            ],
            "text/html": [
              "<div>\n",
              "<style scoped>\n",
              "    .dataframe tbody tr th:only-of-type {\n",
              "        vertical-align: middle;\n",
              "    }\n",
              "\n",
              "    .dataframe tbody tr th {\n",
              "        vertical-align: top;\n",
              "    }\n",
              "\n",
              "    .dataframe thead th {\n",
              "        text-align: right;\n",
              "    }\n",
              "</style>\n",
              "<table border=\"1\" class=\"dataframe\">\n",
              "  <thead>\n",
              "    <tr style=\"text-align: right;\">\n",
              "      <th></th>\n",
              "      <th>count</th>\n",
              "    </tr>\n",
              "    <tr>\n",
              "      <th>COR/RACA/ETNIA</th>\n",
              "      <th></th>\n",
              "    </tr>\n",
              "  </thead>\n",
              "  <tbody>\n",
              "    <tr>\n",
              "      <th>Branca</th>\n",
              "      <td>1805</td>\n",
              "    </tr>\n",
              "    <tr>\n",
              "      <th>Parda</th>\n",
              "      <td>661</td>\n",
              "    </tr>\n",
              "    <tr>\n",
              "      <th>Preta</th>\n",
              "      <td>181</td>\n",
              "    </tr>\n",
              "    <tr>\n",
              "      <th>Amarela</th>\n",
              "      <td>85</td>\n",
              "    </tr>\n",
              "    <tr>\n",
              "      <th>Prefiro não informar</th>\n",
              "      <td>16</td>\n",
              "    </tr>\n",
              "    <tr>\n",
              "      <th>Outra</th>\n",
              "      <td>10</td>\n",
              "    </tr>\n",
              "    <tr>\n",
              "      <th>Indígena</th>\n",
              "      <td>4</td>\n",
              "    </tr>\n",
              "  </tbody>\n",
              "</table>\n",
              "</div><br><label><b>dtype:</b> int64</label>"
            ]
          },
          "metadata": {},
          "execution_count": 7
        }
      ]
    },
    {
      "cell_type": "code",
      "source": [
        "#criar lista para retirar\n",
        "lista_retirar = ['Prefiro não informar', 'Outra', 'Indígena']"
      ],
      "metadata": {
        "id": "fiibAwqcooFS"
      },
      "execution_count": null,
      "outputs": []
    },
    {
      "cell_type": "code",
      "source": [
        "#vamos usar a função isin (esta em), mas como quero a negação (não está em) usamos o ~\n",
        "dados = dados[~dados['COR/RACA/ETNIA'].isin(lista_retirar)]"
      ],
      "metadata": {
        "id": "HNi-LqFuo6f8"
      },
      "execution_count": null,
      "outputs": []
    },
    {
      "cell_type": "markdown",
      "source": [
        "Agora vamos criar uma coluna chamada *COR NAO BRANCA*, onde se a coluna de COR/RACA/ETNIA for BRANCA ela recebe 0. Caso contrario, ela recebe 1."
      ],
      "metadata": {
        "id": "xkdYXeeIrD_F"
      }
    },
    {
      "cell_type": "code",
      "source": [
        "#vamos usar o apply\n",
        "dados['NÃO BRANCA'] = dados['COR/RACA/ETNIA'].apply(lambda x: 1 if x!= 'Branca' else 0 )"
      ],
      "metadata": {
        "colab": {
          "base_uri": "https://localhost:8080/"
        },
        "id": "UQbhjka8rUut",
        "outputId": "4af6a07c-f97e-44b7-aceb-995156f52308"
      },
      "execution_count": null,
      "outputs": [
        {
          "output_type": "stream",
          "name": "stderr",
          "text": [
            "<ipython-input-10-5c168e7396f3>:2: SettingWithCopyWarning: \n",
            "A value is trying to be set on a copy of a slice from a DataFrame.\n",
            "Try using .loc[row_indexer,col_indexer] = value instead\n",
            "\n",
            "See the caveats in the documentation: https://pandas.pydata.org/pandas-docs/stable/user_guide/indexing.html#returning-a-view-versus-a-copy\n",
            "  dados['NÃO BRANCA'] = dados['COR/RACA/ETNIA'].apply(lambda x: 1 if x!= 'Branca' else 0 )\n"
          ]
        }
      ]
    },
    {
      "cell_type": "markdown",
      "source": [
        "Outro parametro que vamos usar, é o da coluna 'QUANTO TEMPO DE EXPERIÊNCIA NA ÁREA DE DADOS VOCÊ TEM?"
      ],
      "metadata": {
        "id": "_Mk4_4exseWo"
      }
    },
    {
      "cell_type": "code",
      "source": [
        "dados['QUANTO TEMPO DE EXPERIÊNCIA NA ÁREA DE DADOS VOCÊ TEM?'].value_counts()"
      ],
      "metadata": {
        "colab": {
          "base_uri": "https://localhost:8080/",
          "height": 335
        },
        "id": "A4WQ6xsKs-ka",
        "outputId": "cddc3de9-ca6c-4bce-95d0-56f3bff218b7"
      },
      "execution_count": null,
      "outputs": [
        {
          "output_type": "execute_result",
          "data": {
            "text/plain": [
              "QUANTO TEMPO DE EXPERIÊNCIA NA ÁREA DE DADOS VOCÊ TEM?\n",
              "de 1 a 2 anos                             743\n",
              "de 3 a 4 anos                             584\n",
              "de 4 a 6 anos                             416\n",
              "Menos de 1 ano                            353\n",
              "Mais de 10 anos                           277\n",
              "de 7 a 10 anos                            232\n",
              "Não tenho experiência na área de dados    127\n",
              "Name: count, dtype: int64"
            ],
            "text/html": [
              "<div>\n",
              "<style scoped>\n",
              "    .dataframe tbody tr th:only-of-type {\n",
              "        vertical-align: middle;\n",
              "    }\n",
              "\n",
              "    .dataframe tbody tr th {\n",
              "        vertical-align: top;\n",
              "    }\n",
              "\n",
              "    .dataframe thead th {\n",
              "        text-align: right;\n",
              "    }\n",
              "</style>\n",
              "<table border=\"1\" class=\"dataframe\">\n",
              "  <thead>\n",
              "    <tr style=\"text-align: right;\">\n",
              "      <th></th>\n",
              "      <th>count</th>\n",
              "    </tr>\n",
              "    <tr>\n",
              "      <th>QUANTO TEMPO DE EXPERIÊNCIA NA ÁREA DE DADOS VOCÊ TEM?</th>\n",
              "      <th></th>\n",
              "    </tr>\n",
              "  </thead>\n",
              "  <tbody>\n",
              "    <tr>\n",
              "      <th>de 1 a 2 anos</th>\n",
              "      <td>743</td>\n",
              "    </tr>\n",
              "    <tr>\n",
              "      <th>de 3 a 4 anos</th>\n",
              "      <td>584</td>\n",
              "    </tr>\n",
              "    <tr>\n",
              "      <th>de 4 a 6 anos</th>\n",
              "      <td>416</td>\n",
              "    </tr>\n",
              "    <tr>\n",
              "      <th>Menos de 1 ano</th>\n",
              "      <td>353</td>\n",
              "    </tr>\n",
              "    <tr>\n",
              "      <th>Mais de 10 anos</th>\n",
              "      <td>277</td>\n",
              "    </tr>\n",
              "    <tr>\n",
              "      <th>de 7 a 10 anos</th>\n",
              "      <td>232</td>\n",
              "    </tr>\n",
              "    <tr>\n",
              "      <th>Não tenho experiência na área de dados</th>\n",
              "      <td>127</td>\n",
              "    </tr>\n",
              "  </tbody>\n",
              "</table>\n",
              "</div><br><label><b>dtype:</b> int64</label>"
            ]
          },
          "metadata": {},
          "execution_count": 11
        }
      ]
    },
    {
      "cell_type": "markdown",
      "source": [
        "Vamos criar um código para usar o primeiro valor numérico de cada categoria (**ex**:*na opção de 1 a 2 anos, pegamos o digito 1*).\n",
        "A gente pode fazer isso usando uma função chamada **extract**.\n",
        "\n"
      ],
      "metadata": {
        "id": "z_z120C9tR1K"
      }
    },
    {
      "cell_type": "code",
      "source": [
        "dados['TEMPO DE EXPERIENCIA'] = dados['QUANTO TEMPO DE EXPERIÊNCIA NA ÁREA DE DADOS VOCÊ TEM?'].str.extract(r'(\\d+)') #regex dentro da função"
      ],
      "metadata": {
        "colab": {
          "base_uri": "https://localhost:8080/"
        },
        "id": "try1DJogttCV",
        "outputId": "efadb8ad-9155-4620-a7b8-d5b2ecb21a51"
      },
      "execution_count": null,
      "outputs": [
        {
          "output_type": "stream",
          "name": "stderr",
          "text": [
            "<ipython-input-12-05b3cfed3ed6>:1: SettingWithCopyWarning: \n",
            "A value is trying to be set on a copy of a slice from a DataFrame.\n",
            "Try using .loc[row_indexer,col_indexer] = value instead\n",
            "\n",
            "See the caveats in the documentation: https://pandas.pydata.org/pandas-docs/stable/user_guide/indexing.html#returning-a-view-versus-a-copy\n",
            "  dados['TEMPO DE EXPERIENCIA'] = dados['QUANTO TEMPO DE EXPERIÊNCIA NA ÁREA DE DADOS VOCÊ TEM?'].str.extract(r'(\\d+)') #regex dentro da função\n"
          ]
        }
      ]
    },
    {
      "cell_type": "code",
      "source": [
        "dados['TEMPO DE EXPERIENCIA'].value_counts()"
      ],
      "metadata": {
        "colab": {
          "base_uri": "https://localhost:8080/",
          "height": 272
        },
        "id": "i6dyMluAu8IL",
        "outputId": "7411dfe5-c81a-4609-a1d3-6237b8e808cd"
      },
      "execution_count": null,
      "outputs": [
        {
          "output_type": "execute_result",
          "data": {
            "text/plain": [
              "TEMPO DE EXPERIENCIA\n",
              "1     1096\n",
              "3      584\n",
              "4      416\n",
              "10     277\n",
              "7      232\n",
              "Name: count, dtype: int64"
            ],
            "text/html": [
              "<div>\n",
              "<style scoped>\n",
              "    .dataframe tbody tr th:only-of-type {\n",
              "        vertical-align: middle;\n",
              "    }\n",
              "\n",
              "    .dataframe tbody tr th {\n",
              "        vertical-align: top;\n",
              "    }\n",
              "\n",
              "    .dataframe thead th {\n",
              "        text-align: right;\n",
              "    }\n",
              "</style>\n",
              "<table border=\"1\" class=\"dataframe\">\n",
              "  <thead>\n",
              "    <tr style=\"text-align: right;\">\n",
              "      <th></th>\n",
              "      <th>count</th>\n",
              "    </tr>\n",
              "    <tr>\n",
              "      <th>TEMPO DE EXPERIENCIA</th>\n",
              "      <th></th>\n",
              "    </tr>\n",
              "  </thead>\n",
              "  <tbody>\n",
              "    <tr>\n",
              "      <th>1</th>\n",
              "      <td>1096</td>\n",
              "    </tr>\n",
              "    <tr>\n",
              "      <th>3</th>\n",
              "      <td>584</td>\n",
              "    </tr>\n",
              "    <tr>\n",
              "      <th>4</th>\n",
              "      <td>416</td>\n",
              "    </tr>\n",
              "    <tr>\n",
              "      <th>10</th>\n",
              "      <td>277</td>\n",
              "    </tr>\n",
              "    <tr>\n",
              "      <th>7</th>\n",
              "      <td>232</td>\n",
              "    </tr>\n",
              "  </tbody>\n",
              "</table>\n",
              "</div><br><label><b>dtype:</b> int64</label>"
            ]
          },
          "metadata": {},
          "execution_count": 13
        }
      ]
    },
    {
      "cell_type": "code",
      "source": [
        "#Vamos conferir a coluna de funcionarios\n",
        "dados['NUMERO DE FUNCIONARIOS'].value_counts()"
      ],
      "metadata": {
        "colab": {
          "base_uri": "https://localhost:8080/",
          "height": 366
        },
        "id": "uc2_GqIzvB4o",
        "outputId": "10b24ee3-2c0e-49d3-f673-1e26f867bfaa"
      },
      "execution_count": null,
      "outputs": [
        {
          "output_type": "execute_result",
          "data": {
            "text/plain": [
              "NUMERO DE FUNCIONARIOS\n",
              "Acima de 3.000      1313\n",
              "de 101 a 500         503\n",
              "de 1.001 a 3.000     368\n",
              "de 501 a 1.000       248\n",
              "de 51 a 100          146\n",
              "de 11 a 50           112\n",
              "de 6 a 10             24\n",
              "de 1 a 5              18\n",
              "Name: count, dtype: int64"
            ],
            "text/html": [
              "<div>\n",
              "<style scoped>\n",
              "    .dataframe tbody tr th:only-of-type {\n",
              "        vertical-align: middle;\n",
              "    }\n",
              "\n",
              "    .dataframe tbody tr th {\n",
              "        vertical-align: top;\n",
              "    }\n",
              "\n",
              "    .dataframe thead th {\n",
              "        text-align: right;\n",
              "    }\n",
              "</style>\n",
              "<table border=\"1\" class=\"dataframe\">\n",
              "  <thead>\n",
              "    <tr style=\"text-align: right;\">\n",
              "      <th></th>\n",
              "      <th>count</th>\n",
              "    </tr>\n",
              "    <tr>\n",
              "      <th>NUMERO DE FUNCIONARIOS</th>\n",
              "      <th></th>\n",
              "    </tr>\n",
              "  </thead>\n",
              "  <tbody>\n",
              "    <tr>\n",
              "      <th>Acima de 3.000</th>\n",
              "      <td>1313</td>\n",
              "    </tr>\n",
              "    <tr>\n",
              "      <th>de 101 a 500</th>\n",
              "      <td>503</td>\n",
              "    </tr>\n",
              "    <tr>\n",
              "      <th>de 1.001 a 3.000</th>\n",
              "      <td>368</td>\n",
              "    </tr>\n",
              "    <tr>\n",
              "      <th>de 501 a 1.000</th>\n",
              "      <td>248</td>\n",
              "    </tr>\n",
              "    <tr>\n",
              "      <th>de 51 a 100</th>\n",
              "      <td>146</td>\n",
              "    </tr>\n",
              "    <tr>\n",
              "      <th>de 11 a 50</th>\n",
              "      <td>112</td>\n",
              "    </tr>\n",
              "    <tr>\n",
              "      <th>de 6 a 10</th>\n",
              "      <td>24</td>\n",
              "    </tr>\n",
              "    <tr>\n",
              "      <th>de 1 a 5</th>\n",
              "      <td>18</td>\n",
              "    </tr>\n",
              "  </tbody>\n",
              "</table>\n",
              "</div><br><label><b>dtype:</b> int64</label>"
            ]
          },
          "metadata": {},
          "execution_count": 14
        }
      ]
    },
    {
      "cell_type": "markdown",
      "source": [
        "para usar o extract como no anterior, usando o regex como da ultima vez, a seleção pararia no . em casos como 3.000 ( o regex pegava digito pos digito).\n",
        "*Aqui vamos usar o replace para tirar os pontos e substituir por um espaço:*"
      ],
      "metadata": {
        "id": "meoz9yUyvPLd"
      }
    },
    {
      "cell_type": "code",
      "source": [
        "dados['NUMERO DE FUNCIONARIOS'] = dados['NUMERO DE FUNCIONARIOS'].str.replace('.','')"
      ],
      "metadata": {
        "colab": {
          "base_uri": "https://localhost:8080/"
        },
        "id": "0UbaGNNuvb3c",
        "outputId": "25000ad4-da69-4094-82cd-562a53314fda"
      },
      "execution_count": null,
      "outputs": [
        {
          "output_type": "stream",
          "name": "stderr",
          "text": [
            "<ipython-input-15-78a3feb39aa4>:1: SettingWithCopyWarning: \n",
            "A value is trying to be set on a copy of a slice from a DataFrame.\n",
            "Try using .loc[row_indexer,col_indexer] = value instead\n",
            "\n",
            "See the caveats in the documentation: https://pandas.pydata.org/pandas-docs/stable/user_guide/indexing.html#returning-a-view-versus-a-copy\n",
            "  dados['NUMERO DE FUNCIONARIOS'] = dados['NUMERO DE FUNCIONARIOS'].str.replace('.','')\n"
          ]
        }
      ]
    },
    {
      "cell_type": "code",
      "source": [
        "dados['NUMERO DE FUNCIONARIOS'].value_counts()"
      ],
      "metadata": {
        "colab": {
          "base_uri": "https://localhost:8080/",
          "height": 366
        },
        "id": "rjAfQY-4LpdS",
        "outputId": "22f4323c-f4b6-46a3-ee07-1ac55ba6637e"
      },
      "execution_count": null,
      "outputs": [
        {
          "output_type": "execute_result",
          "data": {
            "text/plain": [
              "NUMERO DE FUNCIONARIOS\n",
              "Acima de 3000     1313\n",
              "de 101 a 500       503\n",
              "de 1001 a 3000     368\n",
              "de 501 a 1000      248\n",
              "de 51 a 100        146\n",
              "de 11 a 50         112\n",
              "de 6 a 10           24\n",
              "de 1 a 5            18\n",
              "Name: count, dtype: int64"
            ],
            "text/html": [
              "<div>\n",
              "<style scoped>\n",
              "    .dataframe tbody tr th:only-of-type {\n",
              "        vertical-align: middle;\n",
              "    }\n",
              "\n",
              "    .dataframe tbody tr th {\n",
              "        vertical-align: top;\n",
              "    }\n",
              "\n",
              "    .dataframe thead th {\n",
              "        text-align: right;\n",
              "    }\n",
              "</style>\n",
              "<table border=\"1\" class=\"dataframe\">\n",
              "  <thead>\n",
              "    <tr style=\"text-align: right;\">\n",
              "      <th></th>\n",
              "      <th>count</th>\n",
              "    </tr>\n",
              "    <tr>\n",
              "      <th>NUMERO DE FUNCIONARIOS</th>\n",
              "      <th></th>\n",
              "    </tr>\n",
              "  </thead>\n",
              "  <tbody>\n",
              "    <tr>\n",
              "      <th>Acima de 3000</th>\n",
              "      <td>1313</td>\n",
              "    </tr>\n",
              "    <tr>\n",
              "      <th>de 101 a 500</th>\n",
              "      <td>503</td>\n",
              "    </tr>\n",
              "    <tr>\n",
              "      <th>de 1001 a 3000</th>\n",
              "      <td>368</td>\n",
              "    </tr>\n",
              "    <tr>\n",
              "      <th>de 501 a 1000</th>\n",
              "      <td>248</td>\n",
              "    </tr>\n",
              "    <tr>\n",
              "      <th>de 51 a 100</th>\n",
              "      <td>146</td>\n",
              "    </tr>\n",
              "    <tr>\n",
              "      <th>de 11 a 50</th>\n",
              "      <td>112</td>\n",
              "    </tr>\n",
              "    <tr>\n",
              "      <th>de 6 a 10</th>\n",
              "      <td>24</td>\n",
              "    </tr>\n",
              "    <tr>\n",
              "      <th>de 1 a 5</th>\n",
              "      <td>18</td>\n",
              "    </tr>\n",
              "  </tbody>\n",
              "</table>\n",
              "</div><br><label><b>dtype:</b> int64</label>"
            ]
          },
          "metadata": {},
          "execution_count": 16
        }
      ]
    },
    {
      "cell_type": "code",
      "source": [
        "dados['NUMERO DE FUNCIONARIOS'] = dados['NUMERO DE FUNCIONARIOS'].str.extract(r'(\\d+)')"
      ],
      "metadata": {
        "colab": {
          "base_uri": "https://localhost:8080/"
        },
        "id": "cDBBure9HcPH",
        "outputId": "ae3a0531-ba8d-46a9-a301-f2805c1cac46"
      },
      "execution_count": null,
      "outputs": [
        {
          "output_type": "stream",
          "name": "stderr",
          "text": [
            "<ipython-input-17-de65999fa8a6>:1: SettingWithCopyWarning: \n",
            "A value is trying to be set on a copy of a slice from a DataFrame.\n",
            "Try using .loc[row_indexer,col_indexer] = value instead\n",
            "\n",
            "See the caveats in the documentation: https://pandas.pydata.org/pandas-docs/stable/user_guide/indexing.html#returning-a-view-versus-a-copy\n",
            "  dados['NUMERO DE FUNCIONARIOS'] = dados['NUMERO DE FUNCIONARIOS'].str.extract(r'(\\d+)')\n"
          ]
        }
      ]
    },
    {
      "cell_type": "code",
      "source": [
        "dados['NUMERO DE FUNCIONARIOS'].value_counts()"
      ],
      "metadata": {
        "colab": {
          "base_uri": "https://localhost:8080/",
          "height": 366
        },
        "id": "VBQkO0pALGVe",
        "outputId": "427cdd3e-3808-487f-d887-68d8fc70589d"
      },
      "execution_count": null,
      "outputs": [
        {
          "output_type": "execute_result",
          "data": {
            "text/plain": [
              "NUMERO DE FUNCIONARIOS\n",
              "3000    1313\n",
              "101      503\n",
              "1001     368\n",
              "501      248\n",
              "51       146\n",
              "11       112\n",
              "6         24\n",
              "1         18\n",
              "Name: count, dtype: int64"
            ],
            "text/html": [
              "<div>\n",
              "<style scoped>\n",
              "    .dataframe tbody tr th:only-of-type {\n",
              "        vertical-align: middle;\n",
              "    }\n",
              "\n",
              "    .dataframe tbody tr th {\n",
              "        vertical-align: top;\n",
              "    }\n",
              "\n",
              "    .dataframe thead th {\n",
              "        text-align: right;\n",
              "    }\n",
              "</style>\n",
              "<table border=\"1\" class=\"dataframe\">\n",
              "  <thead>\n",
              "    <tr style=\"text-align: right;\">\n",
              "      <th></th>\n",
              "      <th>count</th>\n",
              "    </tr>\n",
              "    <tr>\n",
              "      <th>NUMERO DE FUNCIONARIOS</th>\n",
              "      <th></th>\n",
              "    </tr>\n",
              "  </thead>\n",
              "  <tbody>\n",
              "    <tr>\n",
              "      <th>3000</th>\n",
              "      <td>1313</td>\n",
              "    </tr>\n",
              "    <tr>\n",
              "      <th>101</th>\n",
              "      <td>503</td>\n",
              "    </tr>\n",
              "    <tr>\n",
              "      <th>1001</th>\n",
              "      <td>368</td>\n",
              "    </tr>\n",
              "    <tr>\n",
              "      <th>501</th>\n",
              "      <td>248</td>\n",
              "    </tr>\n",
              "    <tr>\n",
              "      <th>51</th>\n",
              "      <td>146</td>\n",
              "    </tr>\n",
              "    <tr>\n",
              "      <th>11</th>\n",
              "      <td>112</td>\n",
              "    </tr>\n",
              "    <tr>\n",
              "      <th>6</th>\n",
              "      <td>24</td>\n",
              "    </tr>\n",
              "    <tr>\n",
              "      <th>1</th>\n",
              "      <td>18</td>\n",
              "    </tr>\n",
              "  </tbody>\n",
              "</table>\n",
              "</div><br><label><b>dtype:</b> int64</label>"
            ]
          },
          "metadata": {},
          "execution_count": 18
        }
      ]
    },
    {
      "cell_type": "markdown",
      "source": [
        "Agora, vamos pesquisar se tem valores NULOS nessas duas colunas: TEMPO DE EXPERIENCIA e NUMERO DE FUNCIONARIOS. Isso é feito da seguinte forma:"
      ],
      "metadata": {
        "id": "S06zvPo6O1RM"
      }
    },
    {
      "cell_type": "code",
      "source": [
        "dados['TEMPO DE EXPERIENCIA'].value_counts(dropna=False)"
      ],
      "metadata": {
        "colab": {
          "base_uri": "https://localhost:8080/",
          "height": 304
        },
        "id": "22N9pxptPHTs",
        "outputId": "81daf3af-d302-4d7f-dfe1-c7bbc15b5756"
      },
      "execution_count": null,
      "outputs": [
        {
          "output_type": "execute_result",
          "data": {
            "text/plain": [
              "TEMPO DE EXPERIENCIA\n",
              "1      1096\n",
              "3       584\n",
              "4       416\n",
              "10      277\n",
              "7       232\n",
              "NaN     127\n",
              "Name: count, dtype: int64"
            ],
            "text/html": [
              "<div>\n",
              "<style scoped>\n",
              "    .dataframe tbody tr th:only-of-type {\n",
              "        vertical-align: middle;\n",
              "    }\n",
              "\n",
              "    .dataframe tbody tr th {\n",
              "        vertical-align: top;\n",
              "    }\n",
              "\n",
              "    .dataframe thead th {\n",
              "        text-align: right;\n",
              "    }\n",
              "</style>\n",
              "<table border=\"1\" class=\"dataframe\">\n",
              "  <thead>\n",
              "    <tr style=\"text-align: right;\">\n",
              "      <th></th>\n",
              "      <th>count</th>\n",
              "    </tr>\n",
              "    <tr>\n",
              "      <th>TEMPO DE EXPERIENCIA</th>\n",
              "      <th></th>\n",
              "    </tr>\n",
              "  </thead>\n",
              "  <tbody>\n",
              "    <tr>\n",
              "      <th>1</th>\n",
              "      <td>1096</td>\n",
              "    </tr>\n",
              "    <tr>\n",
              "      <th>3</th>\n",
              "      <td>584</td>\n",
              "    </tr>\n",
              "    <tr>\n",
              "      <th>4</th>\n",
              "      <td>416</td>\n",
              "    </tr>\n",
              "    <tr>\n",
              "      <th>10</th>\n",
              "      <td>277</td>\n",
              "    </tr>\n",
              "    <tr>\n",
              "      <th>7</th>\n",
              "      <td>232</td>\n",
              "    </tr>\n",
              "    <tr>\n",
              "      <th>NaN</th>\n",
              "      <td>127</td>\n",
              "    </tr>\n",
              "  </tbody>\n",
              "</table>\n",
              "</div><br><label><b>dtype:</b> int64</label>"
            ]
          },
          "metadata": {},
          "execution_count": 19
        }
      ]
    },
    {
      "cell_type": "code",
      "source": [
        "dados['NUMERO DE FUNCIONARIOS'].value_counts(dropna=False)"
      ],
      "metadata": {
        "colab": {
          "base_uri": "https://localhost:8080/",
          "height": 366
        },
        "id": "sLdzTEFJPR_u",
        "outputId": "5138d724-7e70-4961-c008-886a1aca7f24"
      },
      "execution_count": null,
      "outputs": [
        {
          "output_type": "execute_result",
          "data": {
            "text/plain": [
              "NUMERO DE FUNCIONARIOS\n",
              "3000    1313\n",
              "101      503\n",
              "1001     368\n",
              "501      248\n",
              "51       146\n",
              "11       112\n",
              "6         24\n",
              "1         18\n",
              "Name: count, dtype: int64"
            ],
            "text/html": [
              "<div>\n",
              "<style scoped>\n",
              "    .dataframe tbody tr th:only-of-type {\n",
              "        vertical-align: middle;\n",
              "    }\n",
              "\n",
              "    .dataframe tbody tr th {\n",
              "        vertical-align: top;\n",
              "    }\n",
              "\n",
              "    .dataframe thead th {\n",
              "        text-align: right;\n",
              "    }\n",
              "</style>\n",
              "<table border=\"1\" class=\"dataframe\">\n",
              "  <thead>\n",
              "    <tr style=\"text-align: right;\">\n",
              "      <th></th>\n",
              "      <th>count</th>\n",
              "    </tr>\n",
              "    <tr>\n",
              "      <th>NUMERO DE FUNCIONARIOS</th>\n",
              "      <th></th>\n",
              "    </tr>\n",
              "  </thead>\n",
              "  <tbody>\n",
              "    <tr>\n",
              "      <th>3000</th>\n",
              "      <td>1313</td>\n",
              "    </tr>\n",
              "    <tr>\n",
              "      <th>101</th>\n",
              "      <td>503</td>\n",
              "    </tr>\n",
              "    <tr>\n",
              "      <th>1001</th>\n",
              "      <td>368</td>\n",
              "    </tr>\n",
              "    <tr>\n",
              "      <th>501</th>\n",
              "      <td>248</td>\n",
              "    </tr>\n",
              "    <tr>\n",
              "      <th>51</th>\n",
              "      <td>146</td>\n",
              "    </tr>\n",
              "    <tr>\n",
              "      <th>11</th>\n",
              "      <td>112</td>\n",
              "    </tr>\n",
              "    <tr>\n",
              "      <th>6</th>\n",
              "      <td>24</td>\n",
              "    </tr>\n",
              "    <tr>\n",
              "      <th>1</th>\n",
              "      <td>18</td>\n",
              "    </tr>\n",
              "  </tbody>\n",
              "</table>\n",
              "</div><br><label><b>dtype:</b> int64</label>"
            ]
          },
          "metadata": {},
          "execution_count": 20
        }
      ]
    },
    {
      "cell_type": "markdown",
      "source": [
        "Temos 127 nulos em TEMPO DE EXPERIENCIA, mas eles são provenientes do campo 'Não tenho experiencia na area de dados'. Então podemos preencher esse campo com 0, ja que não há experiencia. Usamos o ***fillna***"
      ],
      "metadata": {
        "id": "mZ4NHXJxPZC6"
      }
    },
    {
      "cell_type": "code",
      "source": [
        "dados['TEMPO DE EXPERIENCIA'] =  dados['TEMPO DE EXPERIENCIA'].fillna(0)"
      ],
      "metadata": {
        "id": "GyKyLJYmPxli"
      },
      "execution_count": null,
      "outputs": []
    },
    {
      "cell_type": "markdown",
      "source": [
        "A próxima coluna que usaremos é a de insatisfação dos funcionários com a empresa atual, que lista os motivos. Vamos usar o value_counts() para ver como está:"
      ],
      "metadata": {
        "id": "2GwP2kpLRNd2"
      }
    },
    {
      "cell_type": "code",
      "source": [
        "dados['Qual o principal motivo da sua insatisfação com a empresa atual?'].value_counts()"
      ],
      "metadata": {
        "colab": {
          "base_uri": "https://localhost:8080/",
          "height": 490
        },
        "id": "QhjwmakURqYs",
        "outputId": "189a079d-c6b4-4765-a975-71992ed50e5b"
      },
      "execution_count": null,
      "outputs": [
        {
          "output_type": "execute_result",
          "data": {
            "text/plain": [
              "Qual o principal motivo da sua insatisfação com a empresa atual?\n",
              "Gostaria de trabalhar em em outra área de atuação                                                                                                           69\n",
              "Salário atual não corresponde ao mercado                                                                                                                    53\n",
              "Falta de oportunidade de crescimento no emprego atual                                                                                                       46\n",
              "Falta de maturidade analítica na empresa                                                                                                                    45\n",
              "Falta de oportunidade de crescimento no emprego atual, Salário atual não corresponde ao mercado, Falta de maturidade analítica na empresa                   26\n",
              "                                                                                                                                                            ..\n",
              "Trabalho explora pouco minhas habilidades e me dá poucas oportunidades de atuação distintas                                                                  1\n",
              "Quero trabalhar de casa                                                                                                                                      1\n",
              "Não tenho uma boa relação com meu líder/gestor, Gostaria de trabalhar em em outra área de atuação                                                            1\n",
              "Salário atual não corresponde ao mercado, Gostaria de trabalhar em em outra área de atuação, Carga horária de trabalho                                       1\n",
              "Não tenho uma boa relação com meu líder/gestor, Falta de oportunidade de crescimento no emprego atual, Gostaria de trabalhar em em outra área de atuação     1\n",
              "Name: count, Length: 174, dtype: int64"
            ],
            "text/html": [
              "<div>\n",
              "<style scoped>\n",
              "    .dataframe tbody tr th:only-of-type {\n",
              "        vertical-align: middle;\n",
              "    }\n",
              "\n",
              "    .dataframe tbody tr th {\n",
              "        vertical-align: top;\n",
              "    }\n",
              "\n",
              "    .dataframe thead th {\n",
              "        text-align: right;\n",
              "    }\n",
              "</style>\n",
              "<table border=\"1\" class=\"dataframe\">\n",
              "  <thead>\n",
              "    <tr style=\"text-align: right;\">\n",
              "      <th></th>\n",
              "      <th>count</th>\n",
              "    </tr>\n",
              "    <tr>\n",
              "      <th>Qual o principal motivo da sua insatisfação com a empresa atual?</th>\n",
              "      <th></th>\n",
              "    </tr>\n",
              "  </thead>\n",
              "  <tbody>\n",
              "    <tr>\n",
              "      <th>Gostaria de trabalhar em em outra área de atuação</th>\n",
              "      <td>69</td>\n",
              "    </tr>\n",
              "    <tr>\n",
              "      <th>Salário atual não corresponde ao mercado</th>\n",
              "      <td>53</td>\n",
              "    </tr>\n",
              "    <tr>\n",
              "      <th>Falta de oportunidade de crescimento no emprego atual</th>\n",
              "      <td>46</td>\n",
              "    </tr>\n",
              "    <tr>\n",
              "      <th>Falta de maturidade analítica na empresa</th>\n",
              "      <td>45</td>\n",
              "    </tr>\n",
              "    <tr>\n",
              "      <th>Falta de oportunidade de crescimento no emprego atual, Salário atual não corresponde ao mercado, Falta de maturidade analítica na empresa</th>\n",
              "      <td>26</td>\n",
              "    </tr>\n",
              "    <tr>\n",
              "      <th>...</th>\n",
              "      <td>...</td>\n",
              "    </tr>\n",
              "    <tr>\n",
              "      <th>Trabalho explora pouco minhas habilidades e me dá poucas oportunidades de atuação distintas</th>\n",
              "      <td>1</td>\n",
              "    </tr>\n",
              "    <tr>\n",
              "      <th>Quero trabalhar de casa</th>\n",
              "      <td>1</td>\n",
              "    </tr>\n",
              "    <tr>\n",
              "      <th>Não tenho uma boa relação com meu líder/gestor, Gostaria de trabalhar em em outra área de atuação</th>\n",
              "      <td>1</td>\n",
              "    </tr>\n",
              "    <tr>\n",
              "      <th>Salário atual não corresponde ao mercado, Gostaria de trabalhar em em outra área de atuação, Carga horária de trabalho</th>\n",
              "      <td>1</td>\n",
              "    </tr>\n",
              "    <tr>\n",
              "      <th>Não tenho uma boa relação com meu líder/gestor, Falta de oportunidade de crescimento no emprego atual, Gostaria de trabalhar em em outra área de atuação</th>\n",
              "      <td>1</td>\n",
              "    </tr>\n",
              "  </tbody>\n",
              "</table>\n",
              "<p>174 rows × 1 columns</p>\n",
              "</div><br><label><b>dtype:</b> int64</label>"
            ]
          },
          "metadata": {},
          "execution_count": 22
        }
      ]
    },
    {
      "cell_type": "markdown",
      "source": [
        "Muitos dos campos envolvem insatisfação com salário. Nós vamos filtrar o que é insatisfação com salario, do que não é. Então, vamos criar uma coluna chamada INSATISFAÇÃO"
      ],
      "metadata": {
        "id": "uVlgjonASwng"
      }
    },
    {
      "cell_type": "code",
      "source": [
        "dados['INSATISFACAO'] = 0"
      ],
      "metadata": {
        "id": "lQX8v1AyTDRM"
      },
      "execution_count": null,
      "outputs": []
    },
    {
      "cell_type": "markdown",
      "source": [
        "Agora vamos fazer um filtro usando o loc"
      ],
      "metadata": {
        "id": "L7b1vLqqTSR0"
      }
    },
    {
      "cell_type": "code",
      "source": [
        "dados.loc[dados['Qual o principal motivo da sua insatisfação com a empresa atual?'].notnull(),'INSATISFACAO'] = dados.loc[dados['Qual o principal motivo da sua insatisfação com a empresa atual?'].notnull(),'Qual o principal motivo da sua insatisfação com a empresa atual?'].apply(lambda x: 1 if 'Salário' in x else 0 )"
      ],
      "metadata": {
        "id": "cJHjfcXSTcHQ"
      },
      "execution_count": null,
      "outputs": []
    },
    {
      "cell_type": "code",
      "source": [
        "dados['INSATISFACAO'] =  dados['INSATISFACAO'].fillna(0)"
      ],
      "metadata": {
        "id": "uAFxgRgoYYm7"
      },
      "execution_count": null,
      "outputs": []
    },
    {
      "cell_type": "code",
      "source": [
        "dados['INSATISFACAO'].value_counts()"
      ],
      "metadata": {
        "colab": {
          "base_uri": "https://localhost:8080/",
          "height": 178
        },
        "id": "7iH3t0FoZETX",
        "outputId": "a5f6dd6a-5a10-489f-d887-1f1491ff9e3d"
      },
      "execution_count": null,
      "outputs": [
        {
          "output_type": "execute_result",
          "data": {
            "text/plain": [
              "INSATISFACAO\n",
              "0    2453\n",
              "1     279\n",
              "Name: count, dtype: int64"
            ],
            "text/html": [
              "<div>\n",
              "<style scoped>\n",
              "    .dataframe tbody tr th:only-of-type {\n",
              "        vertical-align: middle;\n",
              "    }\n",
              "\n",
              "    .dataframe tbody tr th {\n",
              "        vertical-align: top;\n",
              "    }\n",
              "\n",
              "    .dataframe thead th {\n",
              "        text-align: right;\n",
              "    }\n",
              "</style>\n",
              "<table border=\"1\" class=\"dataframe\">\n",
              "  <thead>\n",
              "    <tr style=\"text-align: right;\">\n",
              "      <th></th>\n",
              "      <th>count</th>\n",
              "    </tr>\n",
              "    <tr>\n",
              "      <th>INSATISFACAO</th>\n",
              "      <th></th>\n",
              "    </tr>\n",
              "  </thead>\n",
              "  <tbody>\n",
              "    <tr>\n",
              "      <th>0</th>\n",
              "      <td>2453</td>\n",
              "    </tr>\n",
              "    <tr>\n",
              "      <th>1</th>\n",
              "      <td>279</td>\n",
              "    </tr>\n",
              "  </tbody>\n",
              "</table>\n",
              "</div><br><label><b>dtype:</b> int64</label>"
            ]
          },
          "metadata": {},
          "execution_count": 26
        }
      ]
    },
    {
      "cell_type": "markdown",
      "source": [
        "A ultima coluna que vamos trabalhar é a de NIVEL DE ENSINO, fazendo um value_counts() podemos dar uma olhada."
      ],
      "metadata": {
        "id": "aGRug3zdTt5q"
      }
    },
    {
      "cell_type": "code",
      "source": [
        "dados['NIVEL DE ENSINO'].value_counts()"
      ],
      "metadata": {
        "colab": {
          "base_uri": "https://localhost:8080/",
          "height": 335
        },
        "id": "-wlk-PfiT4EU",
        "outputId": "27770325-c8eb-4d47-e11b-971f5eb768b6"
      },
      "execution_count": null,
      "outputs": [
        {
          "output_type": "execute_result",
          "data": {
            "text/plain": [
              "NIVEL DE ENSINO\n",
              "Graduação/Bacharelado         1024\n",
              "Pós-graduação                  975\n",
              "Mestrado                       306\n",
              "Estudante de Graduação         271\n",
              "Doutorado ou Phd               100\n",
              "Não tenho graduação formal      52\n",
              "Prefiro não informar             4\n",
              "Name: count, dtype: int64"
            ],
            "text/html": [
              "<div>\n",
              "<style scoped>\n",
              "    .dataframe tbody tr th:only-of-type {\n",
              "        vertical-align: middle;\n",
              "    }\n",
              "\n",
              "    .dataframe tbody tr th {\n",
              "        vertical-align: top;\n",
              "    }\n",
              "\n",
              "    .dataframe thead th {\n",
              "        text-align: right;\n",
              "    }\n",
              "</style>\n",
              "<table border=\"1\" class=\"dataframe\">\n",
              "  <thead>\n",
              "    <tr style=\"text-align: right;\">\n",
              "      <th></th>\n",
              "      <th>count</th>\n",
              "    </tr>\n",
              "    <tr>\n",
              "      <th>NIVEL DE ENSINO</th>\n",
              "      <th></th>\n",
              "    </tr>\n",
              "  </thead>\n",
              "  <tbody>\n",
              "    <tr>\n",
              "      <th>Graduação/Bacharelado</th>\n",
              "      <td>1024</td>\n",
              "    </tr>\n",
              "    <tr>\n",
              "      <th>Pós-graduação</th>\n",
              "      <td>975</td>\n",
              "    </tr>\n",
              "    <tr>\n",
              "      <th>Mestrado</th>\n",
              "      <td>306</td>\n",
              "    </tr>\n",
              "    <tr>\n",
              "      <th>Estudante de Graduação</th>\n",
              "      <td>271</td>\n",
              "    </tr>\n",
              "    <tr>\n",
              "      <th>Doutorado ou Phd</th>\n",
              "      <td>100</td>\n",
              "    </tr>\n",
              "    <tr>\n",
              "      <th>Não tenho graduação formal</th>\n",
              "      <td>52</td>\n",
              "    </tr>\n",
              "    <tr>\n",
              "      <th>Prefiro não informar</th>\n",
              "      <td>4</td>\n",
              "    </tr>\n",
              "  </tbody>\n",
              "</table>\n",
              "</div><br><label><b>dtype:</b> int64</label>"
            ]
          },
          "metadata": {},
          "execution_count": 27
        }
      ]
    },
    {
      "cell_type": "markdown",
      "source": [
        "Podemos associar essas dados da seguinte forma:\n",
        "Não tenho graduação formal: 0\n",
        "Estudante de Graduação : 1\n",
        "Graduação: 2\n",
        "e assim por diante\n",
        "\n",
        "Podemos fazer isso com o apply:"
      ],
      "metadata": {
        "id": "UQDc-hxkUG2u"
      }
    },
    {
      "cell_type": "code",
      "source": [
        "dados['NIVEL DE ENSINO']= dados['NIVEL DE ENSINO'].apply(lambda x:0 if x == 'Não tenho graduação formal' else\n",
        "                               1 if x =='Estudante de Graduação' else\n",
        "                               2 if x == 'Graduação/Bacharelado' else\n",
        "                               3 if x == 'Pós-graduação' else\n",
        "                               4 if x == 'Mestrado' else\n",
        "                               5 if x =='Doutorado ou Phd' else -1)"
      ],
      "metadata": {
        "id": "rdNg8kjPUMqD"
      },
      "execution_count": null,
      "outputs": []
    },
    {
      "cell_type": "markdown",
      "source": [
        "*Fizemos as alterações que foram necessarias nas colunas individuais* ✨\n",
        "\n",
        "Agora podemos fazer a seleção das colunas que vamos utilizar para o modelo: *OS ATRIBUTOS DO NOSSO MODELO*\n"
      ],
      "metadata": {
        "id": "m123fP1zWewv"
      }
    },
    {
      "cell_type": "code",
      "source": [
        "#Vamos dar uma olhadinha nos nomes das colunas todas:\n",
        "dados.columns"
      ],
      "metadata": {
        "colab": {
          "base_uri": "https://localhost:8080/"
        },
        "id": "wuYGTaT3W59K",
        "outputId": "2d9d3df6-e869-411c-fe46-f38bd282a6ac"
      },
      "execution_count": null,
      "outputs": [
        {
          "output_type": "execute_result",
          "data": {
            "text/plain": [
              "Index(['ID', 'IDADE', 'FAIXA IDADE', 'GENERO', 'COR/RACA/ETNIA', 'PCD',\n",
              "       'EXPERIENCIA_PROFISSIONAL_PREJUDICADA', 'ASPECTOS_PREJUDICADOS',\n",
              "       'VIVE_NO_BRASIL', 'ESTADO ONDE MORA', 'UF ONDE MORA',\n",
              "       'REGIAO ONDE MORA', 'MUDOU DE ESTADO?', 'REGIAO DE ORIGEM',\n",
              "       'NIVEL DE ENSINO', 'ÁREA DE FORMAÇÃO',\n",
              "       'QUAL SUA SITUAÇÃO ATUAL DE TRABALHO?', 'SETOR',\n",
              "       'NUMERO DE FUNCIONARIOS', 'GESTOR?', 'CARGO COMO GESTOR', 'CARGO ATUAL',\n",
              "       'FAIXA SALARIAL',\n",
              "       'QUANTO TEMPO DE EXPERIÊNCIA NA ÁREA DE DADOS VOCÊ TEM?',\n",
              "       'QUANTO TEMPO DE EXPERIÊNCIA NA ÁREA DE TI/ENGENHARIA DE SOFTWARE VOCÊ TEVE ANTES DE COMEÇAR A TRABALHAR NA ÁREA DE DADOS?',\n",
              "       'SALARIO', 'NOVO_NIVEL', 'NIVEL_Júnior', 'NIVEL_Pleno', 'NIVEL_Sênior',\n",
              "       'GEARACAO', 'Quanto tempo de experiência na área de dados você tem?',\n",
              "       'Quanto tempo de experiência na área de TI/Engenharia de Software você teve antes de começar a trabalhar na área de dados?',\n",
              "       'Você está satisfeito na sua empresa atual?',\n",
              "       'Qual o principal motivo da sua insatisfação com a empresa atual?',\n",
              "       'Você participou de entrevistas de emprego nos últimos 6 meses?',\n",
              "       'Você pretende mudar de emprego nos próximos 6 meses?',\n",
              "       'Quais os principais critérios que você leva em consideração no momento de decidir onde trabalhar?',\n",
              "       'Atualmente qual a sua forma de trabalho?',\n",
              "       'Qual a forma de trabalho ideal para você?',\n",
              "       'Caso sua empresa decida pelo modelo 100% presencial qual será sua atitude?',\n",
              "       'Sua empresa passu por Layoff em 2022?', 'Atuacao',\n",
              "       'Quais das linguagens listadas abaixo você utiliza no trabalho?',\n",
              "       'EM_BUSCA', 'ABERTO_OPORTUNIDADES', 'NÃO BRANCA',\n",
              "       'TEMPO DE EXPERIENCIA', 'INSATISFACAO'],\n",
              "      dtype='object')"
            ]
          },
          "metadata": {},
          "execution_count": 29
        }
      ]
    },
    {
      "cell_type": "code",
      "source": [
        "dados= dados[['IDADE','GENERO','NÃO BRANCA','TEMPO DE EXPERIENCIA', 'INSATISFACAO', 'SETOR','REGIAO ONDE MORA',\n",
        "              'NIVEL DE ENSINO', 'NUMERO DE FUNCIONARIOS', 'SALARIO', 'NOVO_NIVEL']]"
      ],
      "metadata": {
        "id": "O92XxiV4XYU6"
      },
      "execution_count": null,
      "outputs": []
    },
    {
      "cell_type": "code",
      "source": [
        "dados.columns"
      ],
      "metadata": {
        "colab": {
          "base_uri": "https://localhost:8080/"
        },
        "id": "pNZVZk-mZAle",
        "outputId": "e97b715a-2773-4bad-955c-9d966718589d"
      },
      "execution_count": null,
      "outputs": [
        {
          "output_type": "execute_result",
          "data": {
            "text/plain": [
              "Index(['IDADE', 'GENERO', 'NÃO BRANCA', 'TEMPO DE EXPERIENCIA', 'INSATISFACAO',\n",
              "       'SETOR', 'REGIAO ONDE MORA', 'NIVEL DE ENSINO',\n",
              "       'NUMERO DE FUNCIONARIOS', 'SALARIO', 'NOVO_NIVEL'],\n",
              "      dtype='object')"
            ]
          },
          "metadata": {},
          "execution_count": 31
        }
      ]
    },
    {
      "cell_type": "markdown",
      "source": [
        "Agora vamos utilizar o get dummies para as colunas de genero, regiao onde mora, novo nivel e setor . Nesse caso usaremos realmente get dummies pois essas variaveis não tem uma ordenação. Por exemplo, eu não posso falar que masculino vale mais que feminino. E como o modelo vai criar multiplicadores para cada variavel, não faria sentido ter valores numericos aqui. A gente poderia substituir por valores, mas como tb estao fazendo analise das importancias, acabaria influenciando na nossa analise final.  "
      ],
      "metadata": {
        "id": "idm1QdZuZEr1"
      }
    },
    {
      "cell_type": "markdown",
      "source": [
        "**obs** o get_dummies é uma função da biblioteca PANDAS que vai 'transformar os valores em booleanos. Usando 1 e 0 para indicar True e false'\n"
      ],
      "metadata": {
        "id": "74KDvwN_aSiQ"
      }
    },
    {
      "cell_type": "code",
      "source": [
        "dados = pd.get_dummies(dados, columns = ['GENERO', 'REGIAO ONDE MORA', 'SETOR', 'NOVO_NIVEL'], drop_first= True)"
      ],
      "metadata": {
        "id": "7QaieXKYZpTz"
      },
      "execution_count": null,
      "outputs": []
    },
    {
      "cell_type": "markdown",
      "source": [
        "e nós atribuimos esse resultado a DADOS"
      ],
      "metadata": {
        "id": "FHmDMK-qa_jv"
      }
    },
    {
      "cell_type": "markdown",
      "source": [
        "Agora temos a tabela com os dados, mas antes de criar o modelo em si, precisamos separar nosso conjuto de dados em dois. Uma parte vai ser o conjunto de treinamento (é utilizado pelo modelo para aprender) e a outra parte vai ser o conjunto de teste ( utilizado para avaliar o desempenho do modelo para os dados que o modelo ainda não viu).\n",
        "**Então primeiro vamos SEPARAR os ATRIBUTOS do nosso objetivo**"
      ],
      "metadata": {
        "id": "tP8NDnyubWj8"
      }
    },
    {
      "cell_type": "code",
      "source": [
        "X = dados.drop('SALARIO', axis = 1) #apagando SALARIO, axis indica a coluna\n",
        "y = dados['SALARIO'] #peguei só a coluna de salario"
      ],
      "metadata": {
        "id": "Lm1UU-S-byKY"
      },
      "execution_count": null,
      "outputs": []
    },
    {
      "cell_type": "markdown",
      "source": [
        "A variavel X recebeu todas as variaveis exceto SALARIO, enquanto a variavel Y recebeu apenas a variavel SALARIO.\n",
        "***Para fazer a separação dos conjuntos de TESTE e TREINO, vamos utilizar uma função do Sklearn, tambem cahamada de TRAIN TEST SPLIT.***\n",
        "\n",
        "\n",
        "A GENTE FAZ O IMPORT ASSIM:"
      ],
      "metadata": {
        "id": "PDltMDhbcS3S"
      }
    },
    {
      "cell_type": "code",
      "source": [
        "from sklearn.model_selection import train_test_split"
      ],
      "metadata": {
        "id": "e3NZQXv5cp3c"
      },
      "execution_count": null,
      "outputs": []
    },
    {
      "cell_type": "code",
      "source": [
        "# a gente chama a função diretamente, e dentro dos parenteses colocamos os parametros --\n",
        "#target e alvo, depois test_size: tamanho do conjunto de teste (recebe valor em porcentagem-- ex 20% é 0.2), o ultimo parametro é\n",
        "# random state --> semente para gerador de numeros aleatorios que garante que a divisao dos dados seja reproduzivel (so usar o msm numero)\n",
        "# o resultado dessa função vai ser dois conjuntos de atributos, um para teste e um para treinamento\n",
        "X_train, X_test, y_train, y_test = train_test_split(X, y, test_size=0.2,random_state=42)"
      ],
      "metadata": {
        "id": "vmRpOFWyc6y-"
      },
      "execution_count": null,
      "outputs": []
    },
    {
      "cell_type": "markdown",
      "source": [
        "Tambem sera necessario usar uma função chamada **Standard Scaler**, que tambem é da biblioteca sklearn. Fazemos o import assim:"
      ],
      "metadata": {
        "id": "-wB4laeTeJDx"
      }
    },
    {
      "cell_type": "code",
      "source": [
        "from sklearn.preprocessing import StandardScaler"
      ],
      "metadata": {
        "id": "oadHeSRHeZYp"
      },
      "execution_count": null,
      "outputs": []
    },
    {
      "cell_type": "markdown",
      "source": [
        "Essa função tem como objetivo padronizar as características, removendo a media e escalando para variancia unitaria. Ou seja, vai normalizar nossos dados. É importante fazer isso pq algoritmos de machine learning, como regressao linear e redes neurais, funcionam melhor quando os dados tem uma escala uniforme."
      ],
      "metadata": {
        "id": "BNLAzLwCejbh"
      }
    },
    {
      "cell_type": "code",
      "source": [
        "scaler = StandardScaler ()\n",
        "\n",
        "X_train_scaled = scaler.fit_transform(X_train)\n",
        "X_test_scaled = scaler.fit_transform(X_test)"
      ],
      "metadata": {
        "id": "JuGg4rhte6UB"
      },
      "execution_count": null,
      "outputs": []
    },
    {
      "cell_type": "markdown",
      "source": [
        "Agora vamos TREINAR O MODELO. Utilizaremos o *modelo de Linear Regression* da biblioteca *sklearn* .\n",
        "\n",
        "Fazemos o import desse linear regression assim:"
      ],
      "metadata": {
        "id": "acZAUm5sOc1Q"
      }
    },
    {
      "cell_type": "code",
      "source": [
        "from sklearn.linear_model import LinearRegression"
      ],
      "metadata": {
        "id": "Tlv2k75pOx1y"
      },
      "execution_count": null,
      "outputs": []
    },
    {
      "cell_type": "markdown",
      "source": [
        "a gente cria o objeto dessa regressão linear:"
      ],
      "metadata": {
        "id": "0_lDBPC56ndU"
      }
    },
    {
      "cell_type": "code",
      "source": [
        "model = LinearRegression()"
      ],
      "metadata": {
        "id": "FISoT7ul6zZl"
      },
      "execution_count": null,
      "outputs": []
    },
    {
      "cell_type": "markdown",
      "source": [
        "Agora vamos treinar. Para isso chamamos o modelo, colocamos a função de fit e dentro do fit colocamos os parametros"
      ],
      "metadata": {
        "id": "it4xwyn27g02"
      }
    },
    {
      "cell_type": "code",
      "source": [
        "model.fit(X_train_scaled, y_train) #os atributos sao os: parametros de treino e parametros de resposta"
      ],
      "metadata": {
        "colab": {
          "base_uri": "https://localhost:8080/",
          "height": 75
        },
        "id": "h7-6-bzV-N_R",
        "outputId": "9a692b7d-15e9-4f6f-ca2a-cc18b8fb37d1"
      },
      "execution_count": null,
      "outputs": [
        {
          "output_type": "execute_result",
          "data": {
            "text/plain": [
              "LinearRegression()"
            ],
            "text/html": [
              "<style>#sk-container-id-1 {color: black;}#sk-container-id-1 pre{padding: 0;}#sk-container-id-1 div.sk-toggleable {background-color: white;}#sk-container-id-1 label.sk-toggleable__label {cursor: pointer;display: block;width: 100%;margin-bottom: 0;padding: 0.3em;box-sizing: border-box;text-align: center;}#sk-container-id-1 label.sk-toggleable__label-arrow:before {content: \"▸\";float: left;margin-right: 0.25em;color: #696969;}#sk-container-id-1 label.sk-toggleable__label-arrow:hover:before {color: black;}#sk-container-id-1 div.sk-estimator:hover label.sk-toggleable__label-arrow:before {color: black;}#sk-container-id-1 div.sk-toggleable__content {max-height: 0;max-width: 0;overflow: hidden;text-align: left;background-color: #f0f8ff;}#sk-container-id-1 div.sk-toggleable__content pre {margin: 0.2em;color: black;border-radius: 0.25em;background-color: #f0f8ff;}#sk-container-id-1 input.sk-toggleable__control:checked~div.sk-toggleable__content {max-height: 200px;max-width: 100%;overflow: auto;}#sk-container-id-1 input.sk-toggleable__control:checked~label.sk-toggleable__label-arrow:before {content: \"▾\";}#sk-container-id-1 div.sk-estimator input.sk-toggleable__control:checked~label.sk-toggleable__label {background-color: #d4ebff;}#sk-container-id-1 div.sk-label input.sk-toggleable__control:checked~label.sk-toggleable__label {background-color: #d4ebff;}#sk-container-id-1 input.sk-hidden--visually {border: 0;clip: rect(1px 1px 1px 1px);clip: rect(1px, 1px, 1px, 1px);height: 1px;margin: -1px;overflow: hidden;padding: 0;position: absolute;width: 1px;}#sk-container-id-1 div.sk-estimator {font-family: monospace;background-color: #f0f8ff;border: 1px dotted black;border-radius: 0.25em;box-sizing: border-box;margin-bottom: 0.5em;}#sk-container-id-1 div.sk-estimator:hover {background-color: #d4ebff;}#sk-container-id-1 div.sk-parallel-item::after {content: \"\";width: 100%;border-bottom: 1px solid gray;flex-grow: 1;}#sk-container-id-1 div.sk-label:hover label.sk-toggleable__label {background-color: #d4ebff;}#sk-container-id-1 div.sk-serial::before {content: \"\";position: absolute;border-left: 1px solid gray;box-sizing: border-box;top: 0;bottom: 0;left: 50%;z-index: 0;}#sk-container-id-1 div.sk-serial {display: flex;flex-direction: column;align-items: center;background-color: white;padding-right: 0.2em;padding-left: 0.2em;position: relative;}#sk-container-id-1 div.sk-item {position: relative;z-index: 1;}#sk-container-id-1 div.sk-parallel {display: flex;align-items: stretch;justify-content: center;background-color: white;position: relative;}#sk-container-id-1 div.sk-item::before, #sk-container-id-1 div.sk-parallel-item::before {content: \"\";position: absolute;border-left: 1px solid gray;box-sizing: border-box;top: 0;bottom: 0;left: 50%;z-index: -1;}#sk-container-id-1 div.sk-parallel-item {display: flex;flex-direction: column;z-index: 1;position: relative;background-color: white;}#sk-container-id-1 div.sk-parallel-item:first-child::after {align-self: flex-end;width: 50%;}#sk-container-id-1 div.sk-parallel-item:last-child::after {align-self: flex-start;width: 50%;}#sk-container-id-1 div.sk-parallel-item:only-child::after {width: 0;}#sk-container-id-1 div.sk-dashed-wrapped {border: 1px dashed gray;margin: 0 0.4em 0.5em 0.4em;box-sizing: border-box;padding-bottom: 0.4em;background-color: white;}#sk-container-id-1 div.sk-label label {font-family: monospace;font-weight: bold;display: inline-block;line-height: 1.2em;}#sk-container-id-1 div.sk-label-container {text-align: center;}#sk-container-id-1 div.sk-container {/* jupyter's `normalize.less` sets `[hidden] { display: none; }` but bootstrap.min.css set `[hidden] { display: none !important; }` so we also need the `!important` here to be able to override the default hidden behavior on the sphinx rendered scikit-learn.org. See: https://github.com/scikit-learn/scikit-learn/issues/21755 */display: inline-block !important;position: relative;}#sk-container-id-1 div.sk-text-repr-fallback {display: none;}</style><div id=\"sk-container-id-1\" class=\"sk-top-container\"><div class=\"sk-text-repr-fallback\"><pre>LinearRegression()</pre><b>In a Jupyter environment, please rerun this cell to show the HTML representation or trust the notebook. <br />On GitHub, the HTML representation is unable to render, please try loading this page with nbviewer.org.</b></div><div class=\"sk-container\" hidden><div class=\"sk-item\"><div class=\"sk-estimator sk-toggleable\"><input class=\"sk-toggleable__control sk-hidden--visually\" id=\"sk-estimator-id-1\" type=\"checkbox\" checked><label for=\"sk-estimator-id-1\" class=\"sk-toggleable__label sk-toggleable__label-arrow\">LinearRegression</label><div class=\"sk-toggleable__content\"><pre>LinearRegression()</pre></div></div></div></div></div>"
            ]
          },
          "metadata": {},
          "execution_count": 40
        }
      ]
    },
    {
      "cell_type": "markdown",
      "source": [
        "Não normalizamos nosso target - SALARIO. Pois queremos o resultado em formato de salario msm."
      ],
      "metadata": {
        "id": "k2mPhJq9-_Lc"
      }
    },
    {
      "cell_type": "markdown",
      "source": [
        "A gente pode fazer as predições do nosso conjunto de testes utilizando a função do *predict*"
      ],
      "metadata": {
        "id": "o1QFTtPmB9IK"
      }
    },
    {
      "cell_type": "code",
      "source": [
        "model.predict(X_test_scaled)"
      ],
      "metadata": {
        "colab": {
          "base_uri": "https://localhost:8080/"
        },
        "id": "vU_ZwvzPCFxe",
        "outputId": "e2e9bd53-f75c-4d98-e96e-337c27e70752"
      },
      "execution_count": null,
      "outputs": [
        {
          "output_type": "execute_result",
          "data": {
            "text/plain": [
              "array([21747.09955485, 16393.11133947,  3322.57047577,  4070.47453441,\n",
              "       17456.19496593,  6983.80212226,  2895.99031002, 13153.66461021,\n",
              "        2877.9092721 , 11369.42506472,  8810.37673337,  8889.0254039 ,\n",
              "        8208.14893701, 18222.19249943, 18043.82669965,  8547.27229238,\n",
              "       10852.30444684,  6617.36584584,  4625.9954692 , 13323.22681603,\n",
              "        7195.39308176, 11065.52644244, 18377.46883881,  9352.55542353,\n",
              "        9167.82728996, 22734.71129187,  9753.50647653, 11639.15276746,\n",
              "       10102.19278383, 19826.59479755, 13074.70339455, 12732.60397625,\n",
              "       18814.72054547,  5688.02809659,  5513.0550523 ,  3798.25066321,\n",
              "       16433.57854552,  9712.53760549, 11600.32636999,  3345.07582467,\n",
              "        7962.7143068 ,  8704.55524691,  5210.72145032,  6547.51938246,\n",
              "       13349.11767882, 11420.03453199, 14284.61387643,  1406.89023734,\n",
              "        5841.75882136, 23072.17785964,  8973.76843396, 10897.99012048,\n",
              "       19191.98953638,  8864.87517892, 18019.58277215, 13090.32115152,\n",
              "       19569.89234009, 11166.76463339,  6186.96681974, 19844.78857759,\n",
              "       18201.34087981, 16225.52190625,  8101.13038427, 21887.0488653 ,\n",
              "        2456.26972219, 10919.43512508, 11556.10835653,  4475.97622477,\n",
              "        9100.66419419, 12155.55035474,  3679.50935693,  6367.40321516,\n",
              "       23255.18350493,  6525.69025208,  7137.98836327,   195.26067756,\n",
              "       10691.83865696, 18757.84829415,  9072.73029662, 21557.45188024,\n",
              "       11545.87726938, 11957.40688246,  2498.63108384,  7708.15030702,\n",
              "        5182.84851122, 21217.03392669,  3646.45668452,  9077.02756322,\n",
              "       10582.55395341,  3711.85538235, 10150.51435314, 13091.60966717,\n",
              "        7784.41670126,  6695.92100213, 11023.03625579, 18920.57540616,\n",
              "       11963.50732333,  7549.09456104, 12331.85959725, 10316.2848999 ,\n",
              "        1355.10951297,  4589.94441741, 10827.30038101, 23635.70392587,\n",
              "        3533.18614483,  4895.34683321, 15095.33420485,  5670.96593609,\n",
              "       22142.38251709, 22106.24603371,  4897.24049657, 11361.82828215,\n",
              "        7282.94228727,  6382.81656865, 11075.35760033, 11254.34032639,\n",
              "       12303.80954874, 10316.89850582, 16407.7297014 ,  5618.69207709,\n",
              "        4800.78380439,  6124.52905243, 22807.03929837,  4422.57099014,\n",
              "       13585.22543424,  8706.84523198,  6778.58382536, 19460.10167964,\n",
              "        3345.07582467, 17979.39815859, 18194.70767065, 14240.97005511,\n",
              "        8318.97469435, 18873.18096122,  7584.60435666,  8634.55438822,\n",
              "       15754.59317228, 11600.32636999,  8235.28652324, 17729.95176732,\n",
              "       10675.37345328, 15286.77595395, 10016.95073232, 14904.34977424,\n",
              "        6307.8093792 ,  7859.78126971, 10035.075691  , 17925.55730029,\n",
              "        2731.80318271, 15563.50969948,  2389.06264579,  7204.70301892,\n",
              "       22751.62085529,  8787.87575093,  9151.7455307 ,  4047.17579291,\n",
              "       14120.14801066,  9999.40795727,  1938.7707337 ,  6527.09662587,\n",
              "        8126.10600739,  3984.2958934 ,  5508.89126843, 14015.91120608,\n",
              "       10186.94747682,  3008.57124308,  6900.62089149,  -519.46734587,\n",
              "        6362.19259772,  3764.72608388, 16887.57549307, 13638.43344008,\n",
              "       20905.06491218,  6720.60665707, 12732.60397625,  6896.2590049 ,\n",
              "       16917.97103246, 11191.0085609 , 18661.92871979,  8941.64375968,\n",
              "        6459.58514941,  8599.73661765, 15583.0890308 ,  5266.49824348,\n",
              "        6028.85933063,  6337.27910555, 13438.57008124, 18905.28358155,\n",
              "       12631.65192707, 10725.7457157 ,  5540.8435688 ,  5434.29810851,\n",
              "        7364.80052177, 14795.22423549,  5801.83625876,  4738.762743  ,\n",
              "        7510.29397684, 16325.81462131,  9053.19184996,  5740.97023714,\n",
              "       10266.57755357,  9049.76215655, 15213.01363347,  3431.7422962 ,\n",
              "       14019.43887862,  5371.99537693,  3657.46052308,  1484.4145483 ,\n",
              "        1524.37649198,  5035.85938282,  8212.46294834,  2858.46057507,\n",
              "       13151.47197531,  8545.35105616,  1679.77136582,  8941.64375968,\n",
              "         749.09934622, 13523.62180075, 20499.68768264,  6108.88445869,\n",
              "        4595.07116027, 11783.9895005 ,  8448.85564665,  6435.34122191,\n",
              "       14853.43003761,  9250.03891084,  5928.8901229 ,  4586.1747139 ,\n",
              "       10982.79095092, 17789.58063828, 19674.21236086,  7892.47855277,\n",
              "        7364.80052177, 19739.15155279,  3907.68378733,  8171.00029253,\n",
              "       19027.37129317, 11659.73656061,  3127.53109689,  5493.65332347,\n",
              "        4333.53447749,  7096.43801589,  9254.53035726, 19586.58748126,\n",
              "       13097.70854437, 10947.25704307,  6720.60665707,  8747.09018861,\n",
              "       10398.10314046,  6775.85118465,  8188.15765963, 10942.37131189,\n",
              "        9219.55721618,  7741.49768141,  5107.36317025, 11919.91469075,\n",
              "        3005.41581881,  9300.95864747,  9821.43086053,  7048.74222386,\n",
              "        9243.40570168, 10694.52155861,  6932.36099248, 21919.34963506,\n",
              "       20930.9137563 ,  4797.89535502,  2917.97257406,  2514.98491048,\n",
              "        4456.63154836,  9278.83564597, 16460.25435466,  9221.60752075,\n",
              "        8789.77197386, 10020.82479662, 10445.24252945, 19016.02472255,\n",
              "        6574.7598152 , 10378.16623418,  2705.404801  ,  5609.64184962,\n",
              "       13865.87901254,  5762.80369384,  8866.48009554,  4849.46191477,\n",
              "        3025.92374142, 17432.76998936,  3261.9576534 , 11582.78416567,\n",
              "        4827.79617684, 18042.12808051, 10429.38299734,  6670.429537  ,\n",
              "        3882.9779188 , 23582.37371844,  6637.55615801, 14471.91024496,\n",
              "       13151.47197531,  3651.45930843, 15371.69729432,  2952.20330278,\n",
              "       -1702.32610778,  3942.9896097 , 20213.13228202,  8812.78720417,\n",
              "        3541.56234494,  5136.811432  , 14771.68382392,  7095.87108748,\n",
              "       19569.89234009,  3331.69711558, 17213.89130936,  1591.32914104,\n",
              "       22443.22479894,  2676.61614425,  4859.14883002, 17170.05783576,\n",
              "       20644.36692516,  2322.84351672, 11258.63706386, 22397.83416311,\n",
              "       13282.55851225,  8226.33564672,  5807.43015112,  4273.67838217,\n",
              "        3247.65858832, 10299.31503644,  6466.35450367, 12035.40915216,\n",
              "        4047.16443089,  5180.28190119, 17003.27187607,  7195.39308176,\n",
              "       17563.87256646, 25033.5421025 , 18472.62112716, 13924.78300039,\n",
              "        7581.35874461, 11908.79003517,  6441.35511825,  2786.83997295,\n",
              "        3893.72818157,  1483.14239791,  7281.24366812,  7497.1611119 ,\n",
              "        4240.32478843, 18712.24020155,  4703.10947248, 10449.84935534,\n",
              "        4625.9954692 , 18745.30491636, 12038.67098747,  4979.37994935,\n",
              "        8281.05181612, 16219.52172266, 11928.77402398,  1054.72520392,\n",
              "       11679.9722453 ,  6374.1290369 , 18891.48912622, 12451.01905617,\n",
              "        8431.1732194 ,  7339.38605293,  8635.44707388,  4384.45172698,\n",
              "       16887.08653858,  9243.40570168,   902.04977933,  6518.64847967,\n",
              "        4900.4270074 ,  5858.76409503,  7523.83692104, 11379.51249706,\n",
              "        3898.2897047 , 17255.39212797, 22403.18492057, 20349.29071944,\n",
              "       13791.5487864 , 12512.24346553,  6466.21835857, 10169.84970638,\n",
              "        2037.27046832,  7767.69194804, 18984.08645848,  9067.34802309,\n",
              "       11553.45942282,  2754.57926207,  6391.83341183, 11179.60145828,\n",
              "       11542.18398518,  5597.16310697,  6069.97298096, 16982.10080709,\n",
              "        2910.72127993, 15828.28635626,  9841.62039556, 12702.10614559,\n",
              "        9272.49198161, 11526.3602947 ,  3345.07582467, 19869.03250509,\n",
              "       10878.22011764,  1262.83245293,  3915.71243523,  4414.20039463,\n",
              "       11582.78416567,  7124.93556526,  8944.26553668, 12540.14540146,\n",
              "        9639.32604369, 10701.74420679,  4274.57921062, 16957.16619055,\n",
              "       12378.27322984, 17107.61818435, 12065.09973948, 20416.54225545,\n",
              "       11464.83660533, 21218.16934565, 14265.71070348,  7318.58911834,\n",
              "        3274.14416978,  8277.47387574, 23091.79180434,  7911.79457017,\n",
              "        7729.16080683,  1345.38929006,  8638.89100286,  8642.50359468,\n",
              "       14497.71856669,  9022.28139905,  6939.22953508, 16487.20668026,\n",
              "       11382.31667233, 10338.31534517,  7261.71011288,  9795.93939541,\n",
              "        1608.13361887,  2610.25481039,  2701.09509817, 21009.88354144,\n",
              "       17655.44039524, 17706.36013188,  8613.46539669,  5291.36571849,\n",
              "       18464.06060409,  6971.68579373, 13412.49348297,  7428.30654744,\n",
              "       17568.40925117, 14059.09781847, 10733.33485874, 15042.04405675,\n",
              "        4646.09480305,  8402.37648427, 15011.95047743, 13897.14397286,\n",
              "        8517.76939509, 15966.54512175,  7447.12879936,  7078.36491527,\n",
              "        3203.00920726,  8447.39038201,  2447.89858256, 14190.725919  ,\n",
              "       13302.35294631,  8339.75083786, 16502.00459451,  9356.27721794,\n",
              "        4502.49508452,  9299.99035175, 12279.56562124, 13151.47197531,\n",
              "       20134.17106636, 15848.36649989,  6676.17449447,  7129.62296165,\n",
              "        9314.88301882,  6380.19634019, 16599.67462739,  5533.58606515,\n",
              "       11516.75571368, 21959.3768718 , 10373.53464051,  4737.42063733,\n",
              "       20322.06244283,  2160.52719205, 11237.83459037,  5212.7394254 ,\n",
              "        5681.0111311 , 24825.05565858,  8880.49293589,  8355.00284077,\n",
              "       15127.44448305,  5756.20278005, 19409.65560513, 14564.31825564,\n",
              "       15274.25965895,  8281.0363066 , 10429.38299734, 10037.34946871,\n",
              "        4893.30781057,  3224.20915983,  9149.41379711, 12866.61869154,\n",
              "        4979.85882651, 12517.45437921, 15055.23074524,  2689.64077187,\n",
              "        7904.61073831, 12123.78909553, 11054.42588542,  4865.07818981,\n",
              "        5699.3659676 ,  8827.2862968 , 23255.18350493, 18743.34920153,\n",
              "       10944.27962089,  7875.33925628, 10708.65000253, 10213.46518203,\n",
              "        8804.89685962, 12981.79594196,  5531.25492437,  5284.97669813,\n",
              "       10611.59336995,  1092.19277445,  6737.49860592,  4290.75392204,\n",
              "       17281.24097209, 16484.49828216, 10664.84656319,  4414.20039463,\n",
              "        9147.00332631,  4685.58086083, 13417.51136503,  6322.26394698,\n",
              "       10268.18247019,  7532.93559668, 12798.78420853,  8226.28922402,\n",
              "        5698.11515615,  7181.63746422, 16893.4965264 ,  9999.40795727,\n",
              "       11089.17765711, 17842.35656752,  4855.55679605])"
            ]
          },
          "metadata": {},
          "execution_count": 41
        }
      ]
    },
    {
      "cell_type": "markdown",
      "source": [
        "Cada valor desse, representa um valor de salario que o modelo predisse para cada atributo. Vamos pegar esses resultados e colocar numa variavel (y_pred)"
      ],
      "metadata": {
        "id": "hO1dlhb7CUD1"
      }
    },
    {
      "cell_type": "code",
      "source": [
        "y_pred = model.predict(X_test_scaled)"
      ],
      "metadata": {
        "id": "AzUqpb9cCtSe"
      },
      "execution_count": null,
      "outputs": []
    },
    {
      "cell_type": "markdown",
      "source": [
        "Após treinar o modelo de machine learning, é essencial avaliar o desempenho dele para entender o quao bem ele esta fazendo suas predições. Duas métricas comuns para avaliação de modelos de regressão são:\n",
        "*Erro quadratico médio **MSE** * e *coeficiente de determinação*.\n",
        "\n",
        "--***MSE*** : Calcula a média de diferença entre o valor predito e o valor real. --  *ENTRETANDO NESSA METRICA O VALOR É ELEVADO AO QUADRADO, PARA PENALIZAR VALORES MT DIFERENTES ENTRE VALOR PREVISTO E REAL*\n",
        "\n",
        "JÁ O **R²** É UMA MEDIDA ESTATISTICA DE *QUAO PROXIMOS* OS DADOS ESTÃO DA LINHA DE REGRESSAO. -> **PORCENTAGEM DA VARIAÇÃO DA VARIAVEL RESPOSTA QUE É EXPLICADO POR UM MODELO LINEAR**. ESTÁ SEMPRE 0 E 100%.\n",
        "\n",
        "\n",
        "SENDO **0%** : NAO EXPLICA NADA DA VARIABILIDADE DOS DADOS DE RESPOSTA AO REDOR DA SUA MÉDIA.\n",
        "\n",
        "**100%** : INDICA QUE O MODELO EXPLICA TODA VARIABILIDADE DOS DADOS DE RESPOSTA AO REDOR DA SUA MÉDIA, OU SEJA, O FOCO É O 100%.\n",
        "\n",
        "\n",
        "***ESSAS FUNÇÕES SÃO DABIBLIOTECA SKLEARN***\n",
        "FAZEMOS A IMPORTAÇÃO ASSIM:"
      ],
      "metadata": {
        "id": "QPGTdcUvCzuJ"
      }
    },
    {
      "cell_type": "code",
      "source": [
        "#vamos fazer o import de 3 funções de uma msm biblioteca\n",
        "from sklearn.metrics import mean_squared_error, r2_score, mean_absolute_error"
      ],
      "metadata": {
        "id": "OHRAo5yaEQdF"
      },
      "execution_count": null,
      "outputs": []
    },
    {
      "cell_type": "code",
      "source": [],
      "metadata": {
        "id": "6Q63RyEYHQiL"
      },
      "execution_count": null,
      "outputs": []
    },
    {
      "cell_type": "markdown",
      "source": [
        "Vamos cacular primeiro o erro quadratico médio (MSE):"
      ],
      "metadata": {
        "id": "lBpT4Yb0FH9r"
      }
    },
    {
      "cell_type": "code",
      "source": [
        "#DIFERENÇA ENTRE VALORES REAIS (y_test)E OS PREDITOS (y_pred) -- qto menor, mais preciso\n",
        "mse = mean_squared_error(y_test,y_pred)"
      ],
      "metadata": {
        "id": "CrSgDHeGFMYH"
      },
      "execution_count": null,
      "outputs": []
    },
    {
      "cell_type": "code",
      "source": [
        "mse"
      ],
      "metadata": {
        "colab": {
          "base_uri": "https://localhost:8080/"
        },
        "id": "hAZjMHwPFo1J",
        "outputId": "2ae01bf4-a54e-4fb8-9b7f-6bdcfbd6d9bd"
      },
      "execution_count": null,
      "outputs": [
        {
          "output_type": "execute_result",
          "data": {
            "text/plain": [
              "23048733.97829721"
            ]
          },
          "metadata": {},
          "execution_count": 45
        }
      ]
    },
    {
      "cell_type": "markdown",
      "source": [
        "Esse valor alto do MSE indica que o modelo não esta com predições precisas. Mas no nosso caso, como os erros sao penalizados exponencialmente ( erros maiores - penalizações maiores), se ele faz apenas uma predição MUITO ruim => MSE eleva ao quadrado.\n",
        "Além disso, a escala do MSE Nao e a msm do nosso target ( salario ).\n",
        "\n",
        "Entao, ao inves do MSE vamos calcular a **MAE** ( erro absoluto médio)\n",
        "\n",
        "* vamos pegar so a diferença entre o valor predito e o valor real ( nao e elevado ao quadrado."
      ],
      "metadata": {
        "id": "b_p7KRVSFthv"
      }
    },
    {
      "cell_type": "code",
      "source": [
        "mae = mean_absolute_error(y_test, y_pred)"
      ],
      "metadata": {
        "id": "sxzhShldGp7g"
      },
      "execution_count": null,
      "outputs": []
    },
    {
      "cell_type": "code",
      "source": [
        "mae"
      ],
      "metadata": {
        "colab": {
          "base_uri": "https://localhost:8080/"
        },
        "id": "RRi9gPwKIDS4",
        "outputId": "670d03a9-f729-477a-accd-1d32f68d736c"
      },
      "execution_count": null,
      "outputs": [
        {
          "output_type": "execute_result",
          "data": {
            "text/plain": [
              "3298.9644642069397"
            ]
          },
          "metadata": {},
          "execution_count": 47
        }
      ]
    },
    {
      "cell_type": "code",
      "source": [
        "r2 = r2_score(y_test, y_pred)"
      ],
      "metadata": {
        "id": "JApiCqD9IGvO"
      },
      "execution_count": null,
      "outputs": []
    },
    {
      "cell_type": "code",
      "source": [
        "r2"
      ],
      "metadata": {
        "colab": {
          "base_uri": "https://localhost:8080/"
        },
        "id": "-fvbAneuIQC-",
        "outputId": "073d4a0e-5348-45f6-916a-b34cbddd7300"
      },
      "execution_count": null,
      "outputs": [
        {
          "output_type": "execute_result",
          "data": {
            "text/plain": [
              "0.5297347873934931"
            ]
          },
          "metadata": {},
          "execution_count": 49
        }
      ]
    },
    {
      "cell_type": "markdown",
      "source": [
        "Para saber se nosso modelo esta bom, precisamos analisar as metricas em conjunto. Temos um R2 de 0.52, um MAE de 3298 e MSE de 23 milhoes. Nas medias absolutas os erros nao sao tao altos, pois 3mil paras as taxas salariais que temos é ate um MSE bem aceitavel. Porem o MSE esta mt alto -> bastante erros.Para um modelo real de produção, não seria aceitavel."
      ],
      "metadata": {
        "id": "KCetXI-8IRu5"
      }
    },
    {
      "cell_type": "markdown",
      "source": [
        "**VAMOS MONTAR UM GRÁFICO DOS VALORES REAIS x VALORES PREDITOS**"
      ],
      "metadata": {
        "id": "VGwrxPXz3jb7"
      }
    },
    {
      "cell_type": "code",
      "source": [
        "import matplotlib.pyplot as plt"
      ],
      "metadata": {
        "id": "sn5EYkbh3o5W"
      },
      "execution_count": null,
      "outputs": []
    },
    {
      "cell_type": "code",
      "source": [
        "#vamos montar o grafico, começando com a nova figura\n",
        "plt.figure(figsize = (8,4))\n",
        "#vamos plotar um gráfico de dispersão - definiremos a transparencia dos pontos c alpha\n",
        "plt.scatter(y_test, y_pred, alpha =0.5)\n",
        "#rotulos\n",
        "plt.xlabel('Valor Real')\n",
        "plt.ylabel(\"Valor Predito\")\n",
        "plt.title('Dispersão dos Dados')\n",
        "plt.plot([min(y_test), max(y_test)], [min(y_test), max(y_test)], color = 'red', linewidth=2) #plt.plto vai criar a reta da regressão\n",
        "#os argumentos são: ponto de inicio e ponto final d reta, cor e espessura\n",
        "plt.show()"
      ],
      "metadata": {
        "colab": {
          "base_uri": "https://localhost:8080/",
          "height": 410
        },
        "id": "iKCb4bFO39Yy",
        "outputId": "6f585e55-049e-415b-a53c-f87258e29a8b"
      },
      "execution_count": null,
      "outputs": [
        {
          "output_type": "display_data",
          "data": {
            "text/plain": [
              "<Figure size 800x400 with 1 Axes>"
            ],
            "image/png": "[encoded data removed]"
          },
          "metadata": {}
        }
      ]
    },
    {
      "cell_type": "markdown",
      "source": [
        "Nesse grafico, a linha *vermelha* repressenta nosso modelo de *regressão linear* (Valores Preditos) , as bolinhas *azuis* são os *valores reais*.\n",
        "Até aprox. 20 mil, temos muitos valores reais proximos ao modelo de regressão ( as bolinhas estão próximas da linha). Porém, acima de 20 mil reais, as bolinhas estão bem distante da linha. Elas seguem um padrão mais achatado. Significa que, ou podemos tentar no modelo uma inclinação menor, ou realmente regressão linear não é um modelo adequado para nosso problema.\n",
        "Porem, como no nosso caso, o objetivo é fazer uma analise das relações com salário e, na maioria dos casos, conseguimos uma relação próxima, usaremos esse modelo mesmo."
      ],
      "metadata": {
        "id": "KnUkU80R7IfH"
      }
    },
    {
      "cell_type": "markdown",
      "source": [
        "**Nós podemos ver também quais atributos tiveram mais peso positivo ou negativo para o resultado do modelo**\n",
        "\n",
        "Então vamos pegar os nomes das colunas usadas e atribuir a variáveis:"
      ],
      "metadata": {
        "id": "rfwpuwiN84Qm"
      }
    },
    {
      "cell_type": "code",
      "source": [
        "nomes_atributos = X_train.columns"
      ],
      "metadata": {
        "id": "iPYiHO9i9UG-"
      },
      "execution_count": null,
      "outputs": []
    },
    {
      "cell_type": "code",
      "source": [
        "nomes_atributos"
      ],
      "metadata": {
        "colab": {
          "base_uri": "https://localhost:8080/"
        },
        "id": "vTQKSGV4-CCX",
        "outputId": "9757a48c-a819-48b3-c3f4-a22dbec2906f"
      },
      "execution_count": null,
      "outputs": [
        {
          "output_type": "execute_result",
          "data": {
            "text/plain": [
              "Index(['IDADE', 'NÃO BRANCA', 'TEMPO DE EXPERIENCIA', 'INSATISFACAO',\n",
              "       'NIVEL DE ENSINO', 'NUMERO DE FUNCIONARIOS', 'GENERO_Masculino',\n",
              "       'GENERO_Prefiro não informar', 'REGIAO ONDE MORA_Nordeste',\n",
              "       'REGIAO ONDE MORA_Norte', 'REGIAO ONDE MORA_Sudeste',\n",
              "       'REGIAO ONDE MORA_Sul', 'SETOR_Educação',\n",
              "       'SETOR_Entretenimento ou Esportes', 'SETOR_Filantropia/ONG's',\n",
              "       'SETOR_Finanças ou Bancos', 'SETOR_Indústria',\n",
              "       'SETOR_Internet/Ecommerce', 'SETOR_Marketing', 'SETOR_Outra Opção',\n",
              "       'SETOR_Seguros ou Previdência', 'SETOR_Setor Alimentício',\n",
              "       'SETOR_Setor Automotivo', 'SETOR_Setor Farmaceutico',\n",
              "       'SETOR_Setor Imobiliário/ Construção Civil', 'SETOR_Setor Público',\n",
              "       'SETOR_Setor de Energia', 'SETOR_Tecnologia/Fábrica de Software',\n",
              "       'SETOR_Telecomunicação', 'SETOR_Varejo', 'SETOR_Área da Saúde',\n",
              "       'SETOR_Área de Consultoria', 'NOVO_NIVEL_Pessoa Gestora',\n",
              "       'NOVO_NIVEL_Pleno', 'NOVO_NIVEL_Sênior'],\n",
              "      dtype='object')"
            ]
          },
          "metadata": {},
          "execution_count": 54
        }
      ]
    },
    {
      "cell_type": "markdown",
      "source": [
        "Vamos criar um dataframe com pandas (tabela) - *Ela vai ter como valores os coeficientes do modelo*\n",
        "\n",
        "acessado assim:"
      ],
      "metadata": {
        "id": "SeAgJziX-T_B"
      }
    },
    {
      "cell_type": "code",
      "source": [
        "coefs = pd.DataFrame(model.coef_,columns =['coeficientes'], index = nomes_atributos)"
      ],
      "metadata": {
        "id": "WJ9UiB7H-WUq"
      },
      "execution_count": null,
      "outputs": []
    },
    {
      "cell_type": "markdown",
      "source": [
        "Vamos ordenar essa coluna de coeficientes, para a gente ver melhor o que está influenciando mais ou o que está influenciando menos--> sort values"
      ],
      "metadata": {
        "id": "ZVEKHZHK-7lK"
      }
    },
    {
      "cell_type": "code",
      "source": [
        "coefs = coefs.sort_values(by='coeficientes', ascending=False)"
      ],
      "metadata": {
        "id": "CxRlIWV3_D_j"
      },
      "execution_count": null,
      "outputs": []
    },
    {
      "cell_type": "markdown",
      "source": [
        "Para ficar melhor ainda, podemos plotar um gráfico de barra horizontal."
      ],
      "metadata": {
        "id": "tXeF9v2w_me5"
      }
    },
    {
      "cell_type": "code",
      "source": [
        "coefs.plot.barh(figsize=(8,6))\n",
        "plt.axvline(x=0, color='red') #definir uma linha no eixo vertical para mostrar onde fica positivo/negativo"
      ],
      "metadata": {
        "colab": {
          "base_uri": "https://localhost:8080/",
          "height": 540
        },
        "id": "-iU4VDve_sUV",
        "outputId": "7e3af417-4674-4bc5-bc3d-025b6cb8d7df"
      },
      "execution_count": null,
      "outputs": [
        {
          "output_type": "execute_result",
          "data": {
            "text/plain": [
              "<matplotlib.lines.Line2D at 0x7f865a5ee830>"
            ]
          },
          "metadata": {},
          "execution_count": 63
        },
        {
          "output_type": "display_data",
          "data": {
            "text/plain": [
              "<Figure size 800x600 with 1 Axes>"
            ],
            "image/png": "[encoded data removed]"
          },
          "metadata": {}
        }
      ]
    },
    {
      "cell_type": "markdown",
      "source": [
        "O que está como 'negativo' seriam fatores que influenciam negativamente no valor do Salário.\n",
        "O que está 'positivo' são os que influenciam positivamente."
      ],
      "metadata": {
        "id": "2Q-r0lYEATN1"
      }
    },
    {
      "cell_type": "code",
      "source": [],
      "metadata": {
        "id": "ttKBZR6sAiQr"
      },
      "execution_count": null,
      "outputs": []
    }
  ]
}